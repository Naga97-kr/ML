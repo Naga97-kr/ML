{
 "cells": [
  {
   "cell_type": "markdown",
   "id": "5cc29d59-a496-42b8-b424-7717f6a777d8",
   "metadata": {},
   "source": [
    "# 타이타닉"
   ]
  },
  {
   "cell_type": "code",
   "execution_count": 1,
   "id": "19071956-ce35-4a58-bfe2-e177efac1e7a",
   "metadata": {},
   "outputs": [
    {
     "data": {
      "text/html": [
       "<div>\n",
       "<style scoped>\n",
       "    .dataframe tbody tr th:only-of-type {\n",
       "        vertical-align: middle;\n",
       "    }\n",
       "\n",
       "    .dataframe tbody tr th {\n",
       "        vertical-align: top;\n",
       "    }\n",
       "\n",
       "    .dataframe thead th {\n",
       "        text-align: right;\n",
       "    }\n",
       "</style>\n",
       "<table border=\"1\" class=\"dataframe\">\n",
       "  <thead>\n",
       "    <tr style=\"text-align: right;\">\n",
       "      <th></th>\n",
       "      <th>PassengerId</th>\n",
       "      <th>Survived</th>\n",
       "      <th>Pclass</th>\n",
       "      <th>Name</th>\n",
       "      <th>Sex</th>\n",
       "      <th>Age</th>\n",
       "      <th>SibSp</th>\n",
       "      <th>Parch</th>\n",
       "      <th>Ticket</th>\n",
       "      <th>Fare</th>\n",
       "      <th>Cabin</th>\n",
       "      <th>Embarked</th>\n",
       "    </tr>\n",
       "  </thead>\n",
       "  <tbody>\n",
       "    <tr>\n",
       "      <th>0</th>\n",
       "      <td>1</td>\n",
       "      <td>0</td>\n",
       "      <td>3</td>\n",
       "      <td>Braund, Mr. Owen Harris</td>\n",
       "      <td>male</td>\n",
       "      <td>22.0</td>\n",
       "      <td>1</td>\n",
       "      <td>0</td>\n",
       "      <td>A/5 21171</td>\n",
       "      <td>7.2500</td>\n",
       "      <td>NaN</td>\n",
       "      <td>S</td>\n",
       "    </tr>\n",
       "    <tr>\n",
       "      <th>1</th>\n",
       "      <td>2</td>\n",
       "      <td>1</td>\n",
       "      <td>1</td>\n",
       "      <td>Cumings, Mrs. John Bradley (Florence Briggs Th...</td>\n",
       "      <td>female</td>\n",
       "      <td>38.0</td>\n",
       "      <td>1</td>\n",
       "      <td>0</td>\n",
       "      <td>PC 17599</td>\n",
       "      <td>71.2833</td>\n",
       "      <td>C85</td>\n",
       "      <td>C</td>\n",
       "    </tr>\n",
       "    <tr>\n",
       "      <th>2</th>\n",
       "      <td>3</td>\n",
       "      <td>1</td>\n",
       "      <td>3</td>\n",
       "      <td>Heikkinen, Miss. Laina</td>\n",
       "      <td>female</td>\n",
       "      <td>26.0</td>\n",
       "      <td>0</td>\n",
       "      <td>0</td>\n",
       "      <td>STON/O2. 3101282</td>\n",
       "      <td>7.9250</td>\n",
       "      <td>NaN</td>\n",
       "      <td>S</td>\n",
       "    </tr>\n",
       "  </tbody>\n",
       "</table>\n",
       "</div>"
      ],
      "text/plain": [
       "   PassengerId  Survived  Pclass  \\\n",
       "0            1         0       3   \n",
       "1            2         1       1   \n",
       "2            3         1       3   \n",
       "\n",
       "                                                Name     Sex   Age  SibSp  \\\n",
       "0                            Braund, Mr. Owen Harris    male  22.0      1   \n",
       "1  Cumings, Mrs. John Bradley (Florence Briggs Th...  female  38.0      1   \n",
       "2                             Heikkinen, Miss. Laina  female  26.0      0   \n",
       "\n",
       "   Parch            Ticket     Fare Cabin Embarked  \n",
       "0      0         A/5 21171   7.2500   NaN        S  \n",
       "1      0          PC 17599  71.2833   C85        C  \n",
       "2      0  STON/O2. 3101282   7.9250   NaN        S  "
      ]
     },
     "execution_count": 1,
     "metadata": {},
     "output_type": "execute_result"
    }
   ],
   "source": [
    "import numpy as np\n",
    "import pandas as pd\n",
    "import matplotlib.pyplot as plt\n",
    "import seaborn as sns\n",
    "%matplotlib inline\n",
    "\n",
    "titanic_df = pd.read_csv('./titanic_train.csv')\n",
    "titanic_df.head(3)"
   ]
  },
  {
   "cell_type": "code",
   "execution_count": 2,
   "id": "c9ccc0ea-ad69-4c3f-9003-f535de53e6b9",
   "metadata": {},
   "outputs": [
    {
     "data": {
      "text/html": [
       "<div>\n",
       "<style scoped>\n",
       "    .dataframe tbody tr th:only-of-type {\n",
       "        vertical-align: middle;\n",
       "    }\n",
       "\n",
       "    .dataframe tbody tr th {\n",
       "        vertical-align: top;\n",
       "    }\n",
       "\n",
       "    .dataframe thead th {\n",
       "        text-align: right;\n",
       "    }\n",
       "</style>\n",
       "<table border=\"1\" class=\"dataframe\">\n",
       "  <thead>\n",
       "    <tr style=\"text-align: right;\">\n",
       "      <th></th>\n",
       "      <th>PassengerId</th>\n",
       "      <th>Survived</th>\n",
       "      <th>Pclass</th>\n",
       "      <th>Name</th>\n",
       "      <th>Sex</th>\n",
       "      <th>Age</th>\n",
       "      <th>SibSp</th>\n",
       "      <th>Parch</th>\n",
       "      <th>Ticket</th>\n",
       "      <th>Fare</th>\n",
       "      <th>Cabin</th>\n",
       "      <th>Embarked</th>\n",
       "    </tr>\n",
       "  </thead>\n",
       "  <tbody>\n",
       "    <tr>\n",
       "      <th>0</th>\n",
       "      <td>1</td>\n",
       "      <td>0</td>\n",
       "      <td>3</td>\n",
       "      <td>Braund, Mr. Owen Harris</td>\n",
       "      <td>male</td>\n",
       "      <td>22.0</td>\n",
       "      <td>1</td>\n",
       "      <td>0</td>\n",
       "      <td>A/5 21171</td>\n",
       "      <td>7.2500</td>\n",
       "      <td>NaN</td>\n",
       "      <td>S</td>\n",
       "    </tr>\n",
       "    <tr>\n",
       "      <th>1</th>\n",
       "      <td>2</td>\n",
       "      <td>1</td>\n",
       "      <td>1</td>\n",
       "      <td>Cumings, Mrs. John Bradley (Florence Briggs Th...</td>\n",
       "      <td>female</td>\n",
       "      <td>38.0</td>\n",
       "      <td>1</td>\n",
       "      <td>0</td>\n",
       "      <td>PC 17599</td>\n",
       "      <td>71.2833</td>\n",
       "      <td>C85</td>\n",
       "      <td>C</td>\n",
       "    </tr>\n",
       "    <tr>\n",
       "      <th>2</th>\n",
       "      <td>3</td>\n",
       "      <td>1</td>\n",
       "      <td>3</td>\n",
       "      <td>Heikkinen, Miss. Laina</td>\n",
       "      <td>female</td>\n",
       "      <td>26.0</td>\n",
       "      <td>0</td>\n",
       "      <td>0</td>\n",
       "      <td>STON/O2. 3101282</td>\n",
       "      <td>7.9250</td>\n",
       "      <td>NaN</td>\n",
       "      <td>S</td>\n",
       "    </tr>\n",
       "  </tbody>\n",
       "</table>\n",
       "</div>"
      ],
      "text/plain": [
       "   PassengerId  Survived  Pclass  \\\n",
       "0            1         0       3   \n",
       "1            2         1       1   \n",
       "2            3         1       3   \n",
       "\n",
       "                                                Name     Sex   Age  SibSp  \\\n",
       "0                            Braund, Mr. Owen Harris    male  22.0      1   \n",
       "1  Cumings, Mrs. John Bradley (Florence Briggs Th...  female  38.0      1   \n",
       "2                             Heikkinen, Miss. Laina  female  26.0      0   \n",
       "\n",
       "   Parch            Ticket     Fare Cabin Embarked  \n",
       "0      0         A/5 21171   7.2500   NaN        S  \n",
       "1      0          PC 17599  71.2833   C85        C  \n",
       "2      0  STON/O2. 3101282   7.9250   NaN        S  "
      ]
     },
     "execution_count": 2,
     "metadata": {},
     "output_type": "execute_result"
    }
   ],
   "source": [
    "titanic_df = pd.read_csv('./titanic_train.csv')\n",
    "titanic_df.head(3)"
   ]
  },
  {
   "cell_type": "code",
   "execution_count": 3,
   "id": "47eb5517-b244-4413-9258-3464e83305ec",
   "metadata": {},
   "outputs": [
    {
     "name": "stdout",
     "output_type": "stream",
     "text": [
      "<class 'pandas.core.frame.DataFrame'>\n",
      "RangeIndex: 891 entries, 0 to 890\n",
      "Data columns (total 12 columns):\n",
      " #   Column       Non-Null Count  Dtype  \n",
      "---  ------       --------------  -----  \n",
      " 0   PassengerId  891 non-null    int64  \n",
      " 1   Survived     891 non-null    int64  \n",
      " 2   Pclass       891 non-null    int64  \n",
      " 3   Name         891 non-null    object \n",
      " 4   Sex          891 non-null    object \n",
      " 5   Age          714 non-null    float64\n",
      " 6   SibSp        891 non-null    int64  \n",
      " 7   Parch        891 non-null    int64  \n",
      " 8   Ticket       891 non-null    object \n",
      " 9   Fare         891 non-null    float64\n",
      " 10  Cabin        204 non-null    object \n",
      " 11  Embarked     889 non-null    object \n",
      "dtypes: float64(2), int64(5), object(5)\n",
      "memory usage: 83.7+ KB\n"
     ]
    }
   ],
   "source": [
    "titanic_df.info()"
   ]
  },
  {
   "cell_type": "code",
   "execution_count": 4,
   "id": "51ae9b54-3856-4a9b-ae1d-dd2b9e0fb9f5",
   "metadata": {},
   "outputs": [],
   "source": [
    "titanic_df['Age'].fillna(titanic_df['Age'].mean(),inplace=True)\n",
    "titanic_df['Cabin'].fillna('N',inplace=True)\n",
    "titanic_df['Embarked'].fillna('N',inplace=True)"
   ]
  },
  {
   "cell_type": "code",
   "execution_count": 5,
   "id": "9988c53f-73ae-450a-bf48-5833a668e26e",
   "metadata": {},
   "outputs": [
    {
     "data": {
      "text/plain": [
       "PassengerId    0\n",
       "Survived       0\n",
       "Pclass         0\n",
       "Name           0\n",
       "Sex            0\n",
       "Age            0\n",
       "SibSp          0\n",
       "Parch          0\n",
       "Ticket         0\n",
       "Fare           0\n",
       "Cabin          0\n",
       "Embarked       0\n",
       "dtype: int64"
      ]
     },
     "execution_count": 5,
     "metadata": {},
     "output_type": "execute_result"
    }
   ],
   "source": [
    "titanic_df.isnull().sum()"
   ]
  },
  {
   "cell_type": "code",
   "execution_count": 6,
   "id": "5090bf9b-3252-4605-969e-45bd7ffd6836",
   "metadata": {},
   "outputs": [
    {
     "data": {
      "text/plain": [
       "male      577\n",
       "female    314\n",
       "Name: Sex, dtype: int64"
      ]
     },
     "execution_count": 6,
     "metadata": {},
     "output_type": "execute_result"
    }
   ],
   "source": [
    "titanic_df.Sex.value_counts()"
   ]
  },
  {
   "cell_type": "code",
   "execution_count": 7,
   "id": "8eeb618a-b85c-4b90-95da-13cf4e890ab6",
   "metadata": {},
   "outputs": [
    {
     "data": {
      "text/plain": [
       "N              687\n",
       "C23 C25 C27      4\n",
       "G6               4\n",
       "B96 B98          4\n",
       "C22 C26          3\n",
       "              ... \n",
       "E34              1\n",
       "C7               1\n",
       "C54              1\n",
       "E36              1\n",
       "C148             1\n",
       "Name: Cabin, Length: 148, dtype: int64"
      ]
     },
     "execution_count": 7,
     "metadata": {},
     "output_type": "execute_result"
    }
   ],
   "source": [
    "titanic_df.Cabin.value_counts()"
   ]
  },
  {
   "cell_type": "code",
   "execution_count": 8,
   "id": "fe9f1932-8aa0-4597-b237-1ffc977f0bb9",
   "metadata": {},
   "outputs": [
    {
     "data": {
      "text/plain": [
       "S    644\n",
       "C    168\n",
       "Q     77\n",
       "N      2\n",
       "Name: Embarked, dtype: int64"
      ]
     },
     "execution_count": 8,
     "metadata": {},
     "output_type": "execute_result"
    }
   ],
   "source": [
    "titanic_df.Embarked.value_counts()"
   ]
  },
  {
   "cell_type": "code",
   "execution_count": 9,
   "id": "d56b72f6-a409-44a0-8a55-8d2778012376",
   "metadata": {},
   "outputs": [],
   "source": [
    "titanic_df.Cabin = titanic_df.Cabin.str[:1]"
   ]
  },
  {
   "cell_type": "code",
   "execution_count": 10,
   "id": "f44a8c5c-a8a9-4b7a-9cea-cf2018b04dbb",
   "metadata": {},
   "outputs": [
    {
     "data": {
      "text/plain": [
       "0    N\n",
       "1    C\n",
       "2    N\n",
       "Name: Cabin, dtype: object"
      ]
     },
     "execution_count": 10,
     "metadata": {},
     "output_type": "execute_result"
    }
   ],
   "source": [
    "titanic_df.Cabin.head(3)"
   ]
  },
  {
   "cell_type": "code",
   "execution_count": 11,
   "id": "7d20333b-cd0e-4ead-95d1-12d81f166bd9",
   "metadata": {},
   "outputs": [
    {
     "data": {
      "text/plain": [
       "Sex     Survived\n",
       "female  0            81\n",
       "        1           233\n",
       "male    0           468\n",
       "        1           109\n",
       "Name: Survived, dtype: int64"
      ]
     },
     "execution_count": 11,
     "metadata": {},
     "output_type": "execute_result"
    }
   ],
   "source": [
    "titanic_df.groupby(['Sex','Survived'])['Survived'].count()"
   ]
  },
  {
   "cell_type": "code",
   "execution_count": 12,
   "id": "21bec013-0c95-4a30-9d18-bba7bf03bfce",
   "metadata": {},
   "outputs": [
    {
     "data": {
      "text/plain": [
       "<AxesSubplot:xlabel='Sex', ylabel='Survived'>"
      ]
     },
     "execution_count": 12,
     "metadata": {},
     "output_type": "execute_result"
    },
    {
     "data": {
      "image/png": "[encoded data removed]",
      "text/plain": [
       "<Figure size 432x288 with 1 Axes>"
      ]
     },
     "metadata": {
      "needs_background": "light"
     },
     "output_type": "display_data"
    }
   ],
   "source": [
    "sns.barplot(x='Sex',y='Survived',data = titanic_df)"
   ]
  },
  {
   "cell_type": "code",
   "execution_count": 13,
   "id": "3b9ad9d5-c8a5-43e8-a1b5-601bbb80a059",
   "metadata": {},
   "outputs": [
    {
     "data": {
      "text/plain": [
       "<AxesSubplot:xlabel='Pclass', ylabel='Survived'>"
      ]
     },
     "execution_count": 13,
     "metadata": {},
     "output_type": "execute_result"
    },
    {
     "data": {
      "image/png": "[encoded data removed]",
      "text/plain": [
       "<Figure size 432x288 with 1 Axes>"
      ]
     },
     "metadata": {
      "needs_background": "light"
     },
     "output_type": "display_data"
    }
   ],
   "source": [
    "sns.barplot(x='Pclass',y='Survived',hue='Sex',data = titanic_df)"
   ]
  },
  {
   "cell_type": "code",
   "execution_count": 14,
   "id": "da45f79f-fd48-4c04-8836-db3d7996f99a",
   "metadata": {},
   "outputs": [
    {
     "data": {
      "text/plain": [
       "<AxesSubplot:xlabel='Age', ylabel='Survived'>"
      ]
     },
     "execution_count": 14,
     "metadata": {},
     "output_type": "execute_result"
    },
    {
     "data": {
      "image/png": "[encoded data removed]",
      "text/plain": [
       "<Figure size 432x288 with 1 Axes>"
      ]
     },
     "metadata": {
      "needs_background": "light"
     },
     "output_type": "display_data"
    }
   ],
   "source": [
    "sns.barplot(x='Age',y='Survived',hue='Sex',data = titanic_df)"
   ]
  },
  {
   "cell_type": "code",
   "execution_count": 15,
   "id": "57cc8cc7-b4c7-4a10-859c-58c96289a78d",
   "metadata": {},
   "outputs": [],
   "source": [
    "def get_category(age):\n",
    "    cat =''\n",
    "    if age <= -1: cat = 'Unknown'\n",
    "    elif age <= 5: cat = 'Baby'\n",
    "    elif age <= 12: cat = 'Child'\n",
    "    elif age <= 18: cat = 'Teenager'\n",
    "    elif age <= 25: cat = 'Student'\n",
    "    elif age <= 35: cat = 'Young Adult'\n",
    "    elif age <= 60: cat = 'Adult'\n",
    "    else : cat = 'Elderly'\n",
    "    \n",
    "    return cat"
   ]
  },
  {
   "cell_type": "code",
   "execution_count": 16,
   "id": "1d90c1cf-d4e8-4f1a-933c-cfd6c9fd529b",
   "metadata": {},
   "outputs": [
    {
     "data": {
      "image/png": "[encoded data removed]",
      "text/plain": [
       "<Figure size 720x432 with 1 Axes>"
      ]
     },
     "metadata": {
      "needs_background": "light"
     },
     "output_type": "display_data"
    }
   ],
   "source": [
    "plt.figure(figsize=(10,6))\n",
    "\n",
    "group_names = ['Unknown','Baby','Child','Teenager','Student','Young Adult','Adult','Elderly']\n",
    "\n",
    "titanic_df['Age_cat'] = titanic_df['Age'].apply(lambda x : get_category(x))\n",
    "sns.barplot(x='Age_cat',y='Survived',hue='Sex',data=titanic_df,order=group_names)\n",
    "titanic_df.drop('Age_cat',axis=1,inplace=True)"
   ]
  },
  {
   "cell_type": "code",
   "execution_count": 17,
   "id": "f233227e-b2b8-44bd-9fdc-7b43acdffb1a",
   "metadata": {},
   "outputs": [],
   "source": [
    "from sklearn.preprocessing import LabelEncoder"
   ]
  },
  {
   "cell_type": "code",
   "execution_count": 18,
   "id": "0602e65c-4746-4316-9972-ae40875e9584",
   "metadata": {},
   "outputs": [],
   "source": [
    "def encode_features(dataDf):\n",
    "    features = ['Cabin','Sex','Embarked']\n",
    "    for feature in features:\n",
    "        dataDf[feature] = LabelEncoder().fit_transform(dataDf[feature])\n",
    "    return dataDf"
   ]
  },
  {
   "cell_type": "code",
   "execution_count": 19,
   "id": "f11490f5-889a-48a3-9333-91ea5aa4c6ed",
   "metadata": {},
   "outputs": [
    {
     "data": {
      "text/html": [
       "<div>\n",
       "<style scoped>\n",
       "    .dataframe tbody tr th:only-of-type {\n",
       "        vertical-align: middle;\n",
       "    }\n",
       "\n",
       "    .dataframe tbody tr th {\n",
       "        vertical-align: top;\n",
       "    }\n",
       "\n",
       "    .dataframe thead th {\n",
       "        text-align: right;\n",
       "    }\n",
       "</style>\n",
       "<table border=\"1\" class=\"dataframe\">\n",
       "  <thead>\n",
       "    <tr style=\"text-align: right;\">\n",
       "      <th></th>\n",
       "      <th>PassengerId</th>\n",
       "      <th>Survived</th>\n",
       "      <th>Pclass</th>\n",
       "      <th>Name</th>\n",
       "      <th>Sex</th>\n",
       "      <th>Age</th>\n",
       "      <th>SibSp</th>\n",
       "      <th>Parch</th>\n",
       "      <th>Ticket</th>\n",
       "      <th>Fare</th>\n",
       "      <th>Cabin</th>\n",
       "      <th>Embarked</th>\n",
       "    </tr>\n",
       "  </thead>\n",
       "  <tbody>\n",
       "    <tr>\n",
       "      <th>0</th>\n",
       "      <td>1</td>\n",
       "      <td>0</td>\n",
       "      <td>3</td>\n",
       "      <td>Braund, Mr. Owen Harris</td>\n",
       "      <td>1</td>\n",
       "      <td>22.0</td>\n",
       "      <td>1</td>\n",
       "      <td>0</td>\n",
       "      <td>A/5 21171</td>\n",
       "      <td>7.2500</td>\n",
       "      <td>7</td>\n",
       "      <td>3</td>\n",
       "    </tr>\n",
       "    <tr>\n",
       "      <th>1</th>\n",
       "      <td>2</td>\n",
       "      <td>1</td>\n",
       "      <td>1</td>\n",
       "      <td>Cumings, Mrs. John Bradley (Florence Briggs Th...</td>\n",
       "      <td>0</td>\n",
       "      <td>38.0</td>\n",
       "      <td>1</td>\n",
       "      <td>0</td>\n",
       "      <td>PC 17599</td>\n",
       "      <td>71.2833</td>\n",
       "      <td>2</td>\n",
       "      <td>0</td>\n",
       "    </tr>\n",
       "  </tbody>\n",
       "</table>\n",
       "</div>"
      ],
      "text/plain": [
       "   PassengerId  Survived  Pclass  \\\n",
       "0            1         0       3   \n",
       "1            2         1       1   \n",
       "\n",
       "                                                Name  Sex   Age  SibSp  Parch  \\\n",
       "0                            Braund, Mr. Owen Harris    1  22.0      1      0   \n",
       "1  Cumings, Mrs. John Bradley (Florence Briggs Th...    0  38.0      1      0   \n",
       "\n",
       "      Ticket     Fare  Cabin  Embarked  \n",
       "0  A/5 21171   7.2500      7         3  \n",
       "1   PC 17599  71.2833      2         0  "
      ]
     },
     "execution_count": 19,
     "metadata": {},
     "output_type": "execute_result"
    }
   ],
   "source": [
    "titanic_df = encode_features(titanic_df)\n",
    "titanic_df.head(2)"
   ]
  },
  {
   "cell_type": "code",
   "execution_count": 20,
   "id": "221415d0-c500-46d2-a9f5-aec956f7d2bf",
   "metadata": {},
   "outputs": [],
   "source": [
    "def fillna(df):\n",
    "    df['Age'].fillna(titanic_df['Age'].mean(),inplace=True)\n",
    "    df['Cabin'].fillna('N',inplace=True)\n",
    "    df['Embarked'].fillna('N',inplace=True)\n",
    "    df['Fare'].fillna(0,inplace=True)\n",
    "    return df\n",
    "\n",
    "def drop_features(df):\n",
    "    df.drop(columns=['PassengerId','Name','Ticket'],inplace=True)\n",
    "    return df\n",
    "\n",
    "def format_features(df):\n",
    "    df.Cabin = df.Cabin.str[:1]\n",
    "    features = ['Cabin','Sex','Embarked']\n",
    "    for feature in features:\n",
    "        df[feature] = LabelEncoder().fit_transform(df[feature])\n",
    "    return df\n",
    "\n",
    "def transform_feafures(df):\n",
    "    df = fillna(df)\n",
    "    df = drop_features(df)\n",
    "    df = format_features(df)\n",
    "    return df"
   ]
  },
  {
   "cell_type": "code",
   "execution_count": 21,
   "id": "03b13cd8-0d94-43d0-995c-80f21963b664",
   "metadata": {},
   "outputs": [],
   "source": [
    "titanic_df = pd.read_csv('titanic_train.csv')\n",
    "y_titanic_df = titanic_df['Survived']\n",
    "X_titanic_df = titanic_df.drop(columns=['Survived'])\n",
    "X_titanic_df = transform_feafures(X_titanic_df)"
   ]
  },
  {
   "cell_type": "code",
   "execution_count": 22,
   "id": "60c09d66-dc21-4b81-ad2f-655f45e09f43",
   "metadata": {},
   "outputs": [],
   "source": [
    "from sklearn.model_selection import train_test_split"
   ]
  },
  {
   "cell_type": "code",
   "execution_count": 23,
   "id": "13ca74e7-4bac-4b65-b86f-0645a293a18b",
   "metadata": {},
   "outputs": [],
   "source": [
    "X_train,X_test,y_train,y_test = train_test_split(X_titanic_df,\n",
    "                                                y_titanic_df,\n",
    "                                                test_size=0.2,\n",
    "                                                random_state=11)"
   ]
  },
  {
   "cell_type": "code",
   "execution_count": 24,
   "id": "07a2fd26-0c3a-4673-b9b4-c71fe3670a8c",
   "metadata": {},
   "outputs": [],
   "source": [
    "from sklearn.tree import DecisionTreeClassifier\n",
    "from sklearn.ensemble import RandomForestClassifier\n",
    "from sklearn.linear_model import LogisticRegression\n",
    "from sklearn.metrics import accuracy_score"
   ]
  },
  {
   "cell_type": "code",
   "execution_count": 25,
   "id": "36717f3c-4965-4044-839b-56d4ce34d0bf",
   "metadata": {},
   "outputs": [],
   "source": [
    "dt_clf = DecisionTreeClassifier(random_state=11)\n",
    "rf_clf = RandomForestClassifier(random_state=11)\n",
    "lr_clf = LogisticRegression()"
   ]
  },
  {
   "cell_type": "code",
   "execution_count": 26,
   "id": "0a1c6a1a-2d95-4646-9f03-33f6fe614992",
   "metadata": {
    "collapsed": true,
    "jupyter": {
     "outputs_hidden": true
    },
    "tags": []
   },
   "outputs": [
    {
     "name": "stderr",
     "output_type": "stream",
     "text": [
      "C:\\Users\\user\\anaconda3\\lib\\site-packages\\sklearn\\linear_model\\_logistic.py:763: ConvergenceWarning: lbfgs failed to converge (status=1):\n",
      "STOP: TOTAL NO. of ITERATIONS REACHED LIMIT.\n",
      "\n",
      "Increase the number of iterations (max_iter) or scale the data as shown in:\n",
      "    https://scikit-learn.org/stable/modules/preprocessing.html\n",
      "Please also refer to the documentation for alternative solver options:\n",
      "    https://scikit-learn.org/stable/modules/linear_model.html#logistic-regression\n",
      "  n_iter_i = _check_optimize_result(\n"
     ]
    },
    {
     "data": {
      "text/plain": [
       "LogisticRegression()"
      ]
     },
     "execution_count": 26,
     "metadata": {},
     "output_type": "execute_result"
    }
   ],
   "source": [
    "dt_clf.fit(X_train,y_train)\n",
    "rf_clf.fit(X_train,y_train)\n",
    "lr_clf.fit(X_train,y_train)"
   ]
  },
  {
   "cell_type": "code",
   "execution_count": 27,
   "id": "905466ec-3991-46ff-87a5-a1a560853ec4",
   "metadata": {},
   "outputs": [],
   "source": [
    "dt_pred =  dt_clf.predict(X_test)\n",
    "rf_pred =  rf_clf.predict(X_test)\n",
    "lr_pred =  lr_clf.predict(X_test)"
   ]
  },
  {
   "cell_type": "code",
   "execution_count": 28,
   "id": "8f785cd9-f892-4080-a1d7-1893d25ac252",
   "metadata": {},
   "outputs": [
    {
     "name": "stdout",
     "output_type": "stream",
     "text": [
      "dt 0.7877094972067039\n",
      "rf 0.8547486033519553\n",
      "lr 0.8491620111731844\n"
     ]
    }
   ],
   "source": [
    "print('dt',accuracy_score(y_test,dt_pred))\n",
    "print('rf',accuracy_score(y_test,rf_pred))\n",
    "print('lr',accuracy_score(y_test,lr_pred))"
   ]
  },
  {
   "cell_type": "code",
   "execution_count": 29,
   "id": "599f2a12-c7ea-46fd-acca-0faa824a45fa",
   "metadata": {},
   "outputs": [],
   "source": [
    "from sklearn.model_selection import KFold"
   ]
  },
  {
   "cell_type": "code",
   "execution_count": 32,
   "id": "88b8f468-afdb-4900-ace0-b41302caa091",
   "metadata": {
    "collapsed": true,
    "jupyter": {
     "outputs_hidden": true
    },
    "tags": []
   },
   "outputs": [
    {
     "name": "stdout",
     "output_type": "stream",
     "text": [
      "교차검증 0 정확도 : 0.7542\n",
      "교차검증 1 정확도 : 0.7809\n",
      "교차검증 2 정확도 : 0.7865\n",
      "교차검증 3 정확도 : 0.7697\n",
      "교차검증 4 정확도 : 0.8202\n",
      "평균정확도 : 0.7823\n"
     ]
    }
   ],
   "source": [
    "def exec_kfold(clf,folds=5):\n",
    "    kfold = KFold(n_splits=folds)\n",
    "    scores = []\n",
    "    \n",
    "    for iter_count, (train_index,test_index) in enumerate(kfold.split(X_titanic_df)):\n",
    "        X_train, X_test = X_titanic_df.values[train_index], X_titanic_df.values[test_index]\n",
    "        y_train, y_test = y_titanic_df.values[train_index], y_titanic_df.values[test_index]\n",
    "        clf.fit(X_train, y_train)\n",
    "        predictions = clf.predict(X_test)\n",
    "        accuracy = accuracy_score(y_test, predictions)\n",
    "        scores.append(accuracy)\n",
    "        print(f'교차검증 {iter_count} 정확도 : {accuracy:.4f}')\n",
    "        \n",
    "    mean_score = np.mean(scores)\n",
    "    print(f'평균정확도 : {mean_score:.4f}')"
   ]
  },
  {
   "cell_type": "code",
   "execution_count": 35,
   "id": "735efb8e-8748-4b44-8b95-1fca23fe669a",
   "metadata": {
    "collapsed": true,
    "jupyter": {
     "outputs_hidden": true
    },
    "tags": []
   },
   "outputs": [
    {
     "name": "stdout",
     "output_type": "stream",
     "text": [
      "교차검증 0 정확도 : 0.7542\n",
      "교차검증 1 정확도 : 0.7809\n",
      "교차검증 2 정확도 : 0.7865\n",
      "교차검증 3 정확도 : 0.7697\n",
      "교차검증 4 정확도 : 0.8202\n",
      "평균정확도 : 0.7823\n"
     ]
    }
   ],
   "source": [
    "exec_kfold(dt_clf,folds=5) # dt 0.7877094972067039\n",
    "# 교차 검증 0 정확도 : 0.7430\n",
    "# 교차 검증 1 정확도 : 0.7753\n",
    "# 교차 검증 2 정확도 : 0.7921\n",
    "# 교차 검증 3 정확도 : 0.7865\n",
    "# 교차 검증 4 정확도 : 0.8427\n",
    "# 평균 정확도:0.7879"
   ]
  },
  {
   "cell_type": "code",
   "execution_count": 54,
   "id": "75f469dc-8b98-4602-b336-015a17bf035d",
   "metadata": {
    "collapsed": true,
    "jupyter": {
     "outputs_hidden": true
    },
    "tags": []
   },
   "outputs": [
    {
     "name": "stdout",
     "output_type": "stream",
     "text": [
      "교차검증 0 정확도 : 0.7933\n",
      "교차검증 1 정확도 : 0.8090\n",
      "교차검증 2 정확도 : 0.8371\n",
      "교차검증 3 정확도 : 0.7753\n",
      "교차검증 4 정확도 : 0.8596\n",
      "평균정확도 : 0.8148\n"
     ]
    }
   ],
   "source": [
    "exec_kfold(rf_clf,folds=5) # rf 0.8547486033519553\n",
    "# 교차 검증 0 정확도 : 0.7933\n",
    "# 교차 검증 1 정확도 : 0.7978\n",
    "# 교차 검증 2 정확도 : 0.8483\n",
    "# 교차 검증 3 정확도 : 0.7640\n",
    "# 교차 검증 4 정확도 : 0.8652\n",
    "# 평균 정확도:0.8137"
   ]
  },
  {
   "cell_type": "code",
   "execution_count": 37,
   "id": "06670022-43a8-4784-86cc-a6b85c7034fc",
   "metadata": {
    "collapsed": true,
    "jupyter": {
     "outputs_hidden": true
    },
    "tags": []
   },
   "outputs": [
    {
     "name": "stdout",
     "output_type": "stream",
     "text": [
      "교차검증 0 정확도 : 0.8045\n",
      "교차검증 1 정확도 : 0.7809\n",
      "교차검증 2 정확도 : 0.7753\n",
      "교차검증 3 정확도 : 0.7584\n",
      "교차검증 4 정확도 : 0.8371\n",
      "평균정확도 : 0.7912\n"
     ]
    },
    {
     "name": "stderr",
     "output_type": "stream",
     "text": [
      "C:\\Users\\user\\anaconda3\\lib\\site-packages\\sklearn\\linear_model\\_logistic.py:763: ConvergenceWarning: lbfgs failed to converge (status=1):\n",
      "STOP: TOTAL NO. of ITERATIONS REACHED LIMIT.\n",
      "\n",
      "Increase the number of iterations (max_iter) or scale the data as shown in:\n",
      "    https://scikit-learn.org/stable/modules/preprocessing.html\n",
      "Please also refer to the documentation for alternative solver options:\n",
      "    https://scikit-learn.org/stable/modules/linear_model.html#logistic-regression\n",
      "  n_iter_i = _check_optimize_result(\n",
      "C:\\Users\\user\\anaconda3\\lib\\site-packages\\sklearn\\linear_model\\_logistic.py:763: ConvergenceWarning: lbfgs failed to converge (status=1):\n",
      "STOP: TOTAL NO. of ITERATIONS REACHED LIMIT.\n",
      "\n",
      "Increase the number of iterations (max_iter) or scale the data as shown in:\n",
      "    https://scikit-learn.org/stable/modules/preprocessing.html\n",
      "Please also refer to the documentation for alternative solver options:\n",
      "    https://scikit-learn.org/stable/modules/linear_model.html#logistic-regression\n",
      "  n_iter_i = _check_optimize_result(\n",
      "C:\\Users\\user\\anaconda3\\lib\\site-packages\\sklearn\\linear_model\\_logistic.py:763: ConvergenceWarning: lbfgs failed to converge (status=1):\n",
      "STOP: TOTAL NO. of ITERATIONS REACHED LIMIT.\n",
      "\n",
      "Increase the number of iterations (max_iter) or scale the data as shown in:\n",
      "    https://scikit-learn.org/stable/modules/preprocessing.html\n",
      "Please also refer to the documentation for alternative solver options:\n",
      "    https://scikit-learn.org/stable/modules/linear_model.html#logistic-regression\n",
      "  n_iter_i = _check_optimize_result(\n",
      "C:\\Users\\user\\anaconda3\\lib\\site-packages\\sklearn\\linear_model\\_logistic.py:763: ConvergenceWarning: lbfgs failed to converge (status=1):\n",
      "STOP: TOTAL NO. of ITERATIONS REACHED LIMIT.\n",
      "\n",
      "Increase the number of iterations (max_iter) or scale the data as shown in:\n",
      "    https://scikit-learn.org/stable/modules/preprocessing.html\n",
      "Please also refer to the documentation for alternative solver options:\n",
      "    https://scikit-learn.org/stable/modules/linear_model.html#logistic-regression\n",
      "  n_iter_i = _check_optimize_result(\n",
      "C:\\Users\\user\\anaconda3\\lib\\site-packages\\sklearn\\linear_model\\_logistic.py:763: ConvergenceWarning: lbfgs failed to converge (status=1):\n",
      "STOP: TOTAL NO. of ITERATIONS REACHED LIMIT.\n",
      "\n",
      "Increase the number of iterations (max_iter) or scale the data as shown in:\n",
      "    https://scikit-learn.org/stable/modules/preprocessing.html\n",
      "Please also refer to the documentation for alternative solver options:\n",
      "    https://scikit-learn.org/stable/modules/linear_model.html#logistic-regression\n",
      "  n_iter_i = _check_optimize_result(\n"
     ]
    }
   ],
   "source": [
    "exec_kfold(lr_clf,folds=5) # lr 0.8491620111731844\n",
    "# 교차 검증 0 정확도 : 0.7989\n",
    "# 교차 검증 1 정확도 : 0.7697\n",
    "# 교차 검증 2 정확도 : 0.7809\n",
    "# 교차 검증 3 정확도 : 0.7753\n",
    "# 교차 검증 4 정확도 : 0.8146\n",
    "# 평균 정확도:0.7879"
   ]
  },
  {
   "cell_type": "code",
   "execution_count": 38,
   "id": "0f446326-a0e8-4aba-91d4-a305125bddc0",
   "metadata": {},
   "outputs": [],
   "source": [
    "from sklearn.model_selection import cross_val_score"
   ]
  },
  {
   "cell_type": "code",
   "execution_count": 56,
   "id": "f2a89410-44bd-4aa2-a3a3-aa5dad1bc3af",
   "metadata": {
    "collapsed": true,
    "jupyter": {
     "outputs_hidden": true
    },
    "tags": []
   },
   "outputs": [
    {
     "name": "stdout",
     "output_type": "stream",
     "text": [
      "교차 검증 0 정확도 : 0.7430\n",
      "교차 검증 1 정확도 : 0.7753\n",
      "교차 검증 2 정확도 : 0.7921\n",
      "교차 검증 3 정확도 : 0.7865\n",
      "교차 검증 4 정확도 : 0.8427\n",
      "평균 정확도:0.7879\n"
     ]
    }
   ],
   "source": [
    "scores = cross_val_score(dt_clf,X_titanic_df,y_titanic_df,cv=5)\n",
    "for iter_count, accuracy in enumerate(scores):\n",
    "    print(f'교차 검증 {iter_count} 정확도 : {accuracy:.4f}')\n",
    "\n",
    "print(f'평균 정확도:{np.mean(scores):.4f}')"
   ]
  },
  {
   "cell_type": "code",
   "execution_count": 52,
   "id": "1fc3bc11-a1c7-4f66-be21-a404fb889d56",
   "metadata": {
    "collapsed": true,
    "jupyter": {
     "outputs_hidden": true
    },
    "tags": []
   },
   "outputs": [
    {
     "name": "stdout",
     "output_type": "stream",
     "text": [
      "교차 검증 0 정확도 : 0.7933\n",
      "교차 검증 1 정확도 : 0.7978\n",
      "교차 검증 2 정확도 : 0.8483\n",
      "교차 검증 3 정확도 : 0.7640\n",
      "교차 검증 4 정확도 : 0.8652\n",
      "평균 정확도:0.8137\n"
     ]
    }
   ],
   "source": [
    "scores = cross_val_score(rf_clf,X_titanic_df,y_titanic_df,cv=5)\n",
    "for iter_count, accuracy in enumerate(scores):\n",
    "    print(f'교차 검증 {iter_count} 정확도 : {accuracy:.4f}')\n",
    "\n",
    "print(f'평균 정확도:{np.mean(scores):.4f}')"
   ]
  },
  {
   "cell_type": "code",
   "execution_count": 59,
   "id": "2caa96ee-350c-4cd7-b17c-1f471ea12edf",
   "metadata": {
    "collapsed": true,
    "jupyter": {
     "outputs_hidden": true
    },
    "tags": []
   },
   "outputs": [
    {
     "name": "stdout",
     "output_type": "stream",
     "text": [
      "교차 검증 0 정확도 : 0.7989\n",
      "교차 검증 1 정확도 : 0.7697\n",
      "교차 검증 2 정확도 : 0.7809\n",
      "교차 검증 3 정확도 : 0.7753\n",
      "교차 검증 4 정확도 : 0.8146\n",
      "평균 정확도:0.7879\n"
     ]
    },
    {
     "name": "stderr",
     "output_type": "stream",
     "text": [
      "C:\\Users\\user\\anaconda3\\lib\\site-packages\\sklearn\\linear_model\\_logistic.py:763: ConvergenceWarning: lbfgs failed to converge (status=1):\n",
      "STOP: TOTAL NO. of ITERATIONS REACHED LIMIT.\n",
      "\n",
      "Increase the number of iterations (max_iter) or scale the data as shown in:\n",
      "    https://scikit-learn.org/stable/modules/preprocessing.html\n",
      "Please also refer to the documentation for alternative solver options:\n",
      "    https://scikit-learn.org/stable/modules/linear_model.html#logistic-regression\n",
      "  n_iter_i = _check_optimize_result(\n",
      "C:\\Users\\user\\anaconda3\\lib\\site-packages\\sklearn\\linear_model\\_logistic.py:763: ConvergenceWarning: lbfgs failed to converge (status=1):\n",
      "STOP: TOTAL NO. of ITERATIONS REACHED LIMIT.\n",
      "\n",
      "Increase the number of iterations (max_iter) or scale the data as shown in:\n",
      "    https://scikit-learn.org/stable/modules/preprocessing.html\n",
      "Please also refer to the documentation for alternative solver options:\n",
      "    https://scikit-learn.org/stable/modules/linear_model.html#logistic-regression\n",
      "  n_iter_i = _check_optimize_result(\n",
      "C:\\Users\\user\\anaconda3\\lib\\site-packages\\sklearn\\linear_model\\_logistic.py:763: ConvergenceWarning: lbfgs failed to converge (status=1):\n",
      "STOP: TOTAL NO. of ITERATIONS REACHED LIMIT.\n",
      "\n",
      "Increase the number of iterations (max_iter) or scale the data as shown in:\n",
      "    https://scikit-learn.org/stable/modules/preprocessing.html\n",
      "Please also refer to the documentation for alternative solver options:\n",
      "    https://scikit-learn.org/stable/modules/linear_model.html#logistic-regression\n",
      "  n_iter_i = _check_optimize_result(\n",
      "C:\\Users\\user\\anaconda3\\lib\\site-packages\\sklearn\\linear_model\\_logistic.py:763: ConvergenceWarning: lbfgs failed to converge (status=1):\n",
      "STOP: TOTAL NO. of ITERATIONS REACHED LIMIT.\n",
      "\n",
      "Increase the number of iterations (max_iter) or scale the data as shown in:\n",
      "    https://scikit-learn.org/stable/modules/preprocessing.html\n",
      "Please also refer to the documentation for alternative solver options:\n",
      "    https://scikit-learn.org/stable/modules/linear_model.html#logistic-regression\n",
      "  n_iter_i = _check_optimize_result(\n",
      "C:\\Users\\user\\anaconda3\\lib\\site-packages\\sklearn\\linear_model\\_logistic.py:763: ConvergenceWarning: lbfgs failed to converge (status=1):\n",
      "STOP: TOTAL NO. of ITERATIONS REACHED LIMIT.\n",
      "\n",
      "Increase the number of iterations (max_iter) or scale the data as shown in:\n",
      "    https://scikit-learn.org/stable/modules/preprocessing.html\n",
      "Please also refer to the documentation for alternative solver options:\n",
      "    https://scikit-learn.org/stable/modules/linear_model.html#logistic-regression\n",
      "  n_iter_i = _check_optimize_result(\n"
     ]
    }
   ],
   "source": [
    "scores = cross_val_score(lr_clf,X_titanic_df,y_titanic_df,cv=5)\n",
    "for iter_count, accuracy in enumerate(scores):\n",
    "    print(f'교차 검증 {iter_count} 정확도 : {accuracy:.4f}')\n",
    "\n",
    "print(f'평균 정확도:{np.mean(scores):.4f}')"
   ]
  },
  {
   "cell_type": "code",
   "execution_count": 60,
   "id": "ccbeed78-351c-47af-8655-8119b83586f3",
   "metadata": {},
   "outputs": [],
   "source": [
    "from sklearn.model_selection import GridSearchCV"
   ]
  },
  {
   "cell_type": "code",
   "execution_count": 62,
   "id": "ffdf1076-655e-441d-b360-554d25e9bae0",
   "metadata": {},
   "outputs": [],
   "source": [
    "parameters = {\n",
    "    'max_depth' : [2,3,5,10],\n",
    "    'min_samples_split':[2,3,5],\n",
    "    'min_samples_leaf':[1,5,8]\n",
    "}"
   ]
  },
  {
   "cell_type": "code",
   "execution_count": 63,
   "id": "4c6bc25c-c0b8-4fad-8461-6f2c00f20491",
   "metadata": {},
   "outputs": [
    {
     "data": {
      "text/plain": [
       "GridSearchCV(cv=5, estimator=DecisionTreeClassifier(random_state=11),\n",
       "             param_grid={'max_depth': [2, 3, 5, 10],\n",
       "                         'min_samples_leaf': [1, 5, 8],\n",
       "                         'min_samples_split': [2, 3, 5]},\n",
       "             scoring='accuracy')"
      ]
     },
     "execution_count": 63,
     "metadata": {},
     "output_type": "execute_result"
    }
   ],
   "source": [
    "grid_dclf = GridSearchCV(dt_clf,param_grid=parameters,scoring='accuracy',cv=5)\n",
    "grid_dclf.fit(X_train,y_train)"
   ]
  },
  {
   "cell_type": "code",
   "execution_count": 66,
   "id": "175b9417-298f-4dde-a322-93411dc5b0ee",
   "metadata": {
    "collapsed": true,
    "jupyter": {
     "outputs_hidden": true
    },
    "tags": []
   },
   "outputs": [
    {
     "data": {
      "text/plain": [
       "{'mean_fit_time': array([0.00199447, 0.00179491, 0.00139551, 0.00159578, 0.00139618,\n",
       "        0.00159678, 0.00080085, 0.        , 0.        , 0.00312433,\n",
       "        0.00312438, 0.        , 0.        , 0.        , 0.00312448,\n",
       "        0.0031239 , 0.00312428, 0.00312672, 0.0004045 , 0.00159349,\n",
       "        0.00199728, 0.00139914, 0.        , 0.        , 0.00312433,\n",
       "        0.        , 0.00312428, 0.00311909, 0.00501313, 0.        ,\n",
       "        0.        , 0.00312471, 0.00312386, 0.00312443, 0.        ,\n",
       "        0.00312428]),\n",
       " 'std_fit_time': array([1.06196677e-06, 3.99041329e-04, 4.87509211e-04, 4.88558319e-04,\n",
       "        4.88519285e-04, 4.87528781e-04, 9.80835142e-04, 0.00000000e+00,\n",
       "        0.00000000e+00, 6.24866486e-03, 6.24876022e-03, 0.00000000e+00,\n",
       "        0.00000000e+00, 0.00000000e+00, 6.24895096e-03, 6.24780655e-03,\n",
       "        6.24856949e-03, 6.25343323e-03, 8.09001923e-04, 4.89908298e-04,\n",
       "        2.42859489e-06, 4.85836405e-04, 0.00000000e+00, 0.00000000e+00,\n",
       "        6.24866486e-03, 0.00000000e+00, 6.24856949e-03, 6.23817444e-03,\n",
       "        6.44806066e-03, 0.00000000e+00, 0.00000000e+00, 6.24942780e-03,\n",
       "        6.24771118e-03, 6.24885559e-03, 0.00000000e+00, 6.24856949e-03]),\n",
       " 'mean_score_time': array([0.00099773, 0.00079818, 0.00119638, 0.00099735, 0.00100293,\n",
       "        0.00079713, 0.00019817, 0.        , 0.00312061, 0.        ,\n",
       "        0.        , 0.        , 0.        , 0.00312428, 0.        ,\n",
       "        0.        , 0.        , 0.        , 0.0034091 , 0.00079856,\n",
       "        0.00079532, 0.00079756, 0.00312967, 0.        , 0.        ,\n",
       "        0.00312433, 0.        , 0.        , 0.0002069 , 0.0031302 ,\n",
       "        0.        , 0.        , 0.        , 0.        , 0.0031239 ,\n",
       "        0.        ]),\n",
       " 'std_score_time': array([1.21943587e-06, 3.99089127e-04, 3.99351362e-04, 3.81469727e-07,\n",
       "        1.12533569e-05, 3.98570225e-04, 3.96347046e-04, 0.00000000e+00,\n",
       "        6.24122620e-03, 0.00000000e+00, 0.00000000e+00, 0.00000000e+00,\n",
       "        0.00000000e+00, 6.24856949e-03, 0.00000000e+00, 0.00000000e+00,\n",
       "        0.00000000e+00, 0.00000000e+00, 6.33133975e-03, 3.99281399e-04,\n",
       "        3.97664677e-04, 3.98780697e-04, 6.25934601e-03, 0.00000000e+00,\n",
       "        0.00000000e+00, 6.24866486e-03, 0.00000000e+00, 0.00000000e+00,\n",
       "        4.13799286e-04, 6.26039505e-03, 0.00000000e+00, 0.00000000e+00,\n",
       "        0.00000000e+00, 0.00000000e+00, 6.24780655e-03, 0.00000000e+00]),\n",
       " 'param_max_depth': masked_array(data=[2, 2, 2, 2, 2, 2, 2, 2, 2, 3, 3, 3, 3, 3, 3, 3, 3, 3,\n",
       "                    5, 5, 5, 5, 5, 5, 5, 5, 5, 10, 10, 10, 10, 10, 10, 10,\n",
       "                    10, 10],\n",
       "              mask=[False, False, False, False, False, False, False, False,\n",
       "                    False, False, False, False, False, False, False, False,\n",
       "                    False, False, False, False, False, False, False, False,\n",
       "                    False, False, False, False, False, False, False, False,\n",
       "                    False, False, False, False],\n",
       "        fill_value='?',\n",
       "             dtype=object),\n",
       " 'param_min_samples_leaf': masked_array(data=[1, 1, 1, 5, 5, 5, 8, 8, 8, 1, 1, 1, 5, 5, 5, 8, 8, 8,\n",
       "                    1, 1, 1, 5, 5, 5, 8, 8, 8, 1, 1, 1, 5, 5, 5, 8, 8, 8],\n",
       "              mask=[False, False, False, False, False, False, False, False,\n",
       "                    False, False, False, False, False, False, False, False,\n",
       "                    False, False, False, False, False, False, False, False,\n",
       "                    False, False, False, False, False, False, False, False,\n",
       "                    False, False, False, False],\n",
       "        fill_value='?',\n",
       "             dtype=object),\n",
       " 'param_min_samples_split': masked_array(data=[2, 3, 5, 2, 3, 5, 2, 3, 5, 2, 3, 5, 2, 3, 5, 2, 3, 5,\n",
       "                    2, 3, 5, 2, 3, 5, 2, 3, 5, 2, 3, 5, 2, 3, 5, 2, 3, 5],\n",
       "              mask=[False, False, False, False, False, False, False, False,\n",
       "                    False, False, False, False, False, False, False, False,\n",
       "                    False, False, False, False, False, False, False, False,\n",
       "                    False, False, False, False, False, False, False, False,\n",
       "                    False, False, False, False],\n",
       "        fill_value='?',\n",
       "             dtype=object),\n",
       " 'params': [{'max_depth': 2, 'min_samples_leaf': 1, 'min_samples_split': 2},\n",
       "  {'max_depth': 2, 'min_samples_leaf': 1, 'min_samples_split': 3},\n",
       "  {'max_depth': 2, 'min_samples_leaf': 1, 'min_samples_split': 5},\n",
       "  {'max_depth': 2, 'min_samples_leaf': 5, 'min_samples_split': 2},\n",
       "  {'max_depth': 2, 'min_samples_leaf': 5, 'min_samples_split': 3},\n",
       "  {'max_depth': 2, 'min_samples_leaf': 5, 'min_samples_split': 5},\n",
       "  {'max_depth': 2, 'min_samples_leaf': 8, 'min_samples_split': 2},\n",
       "  {'max_depth': 2, 'min_samples_leaf': 8, 'min_samples_split': 3},\n",
       "  {'max_depth': 2, 'min_samples_leaf': 8, 'min_samples_split': 5},\n",
       "  {'max_depth': 3, 'min_samples_leaf': 1, 'min_samples_split': 2},\n",
       "  {'max_depth': 3, 'min_samples_leaf': 1, 'min_samples_split': 3},\n",
       "  {'max_depth': 3, 'min_samples_leaf': 1, 'min_samples_split': 5},\n",
       "  {'max_depth': 3, 'min_samples_leaf': 5, 'min_samples_split': 2},\n",
       "  {'max_depth': 3, 'min_samples_leaf': 5, 'min_samples_split': 3},\n",
       "  {'max_depth': 3, 'min_samples_leaf': 5, 'min_samples_split': 5},\n",
       "  {'max_depth': 3, 'min_samples_leaf': 8, 'min_samples_split': 2},\n",
       "  {'max_depth': 3, 'min_samples_leaf': 8, 'min_samples_split': 3},\n",
       "  {'max_depth': 3, 'min_samples_leaf': 8, 'min_samples_split': 5},\n",
       "  {'max_depth': 5, 'min_samples_leaf': 1, 'min_samples_split': 2},\n",
       "  {'max_depth': 5, 'min_samples_leaf': 1, 'min_samples_split': 3},\n",
       "  {'max_depth': 5, 'min_samples_leaf': 1, 'min_samples_split': 5},\n",
       "  {'max_depth': 5, 'min_samples_leaf': 5, 'min_samples_split': 2},\n",
       "  {'max_depth': 5, 'min_samples_leaf': 5, 'min_samples_split': 3},\n",
       "  {'max_depth': 5, 'min_samples_leaf': 5, 'min_samples_split': 5},\n",
       "  {'max_depth': 5, 'min_samples_leaf': 8, 'min_samples_split': 2},\n",
       "  {'max_depth': 5, 'min_samples_leaf': 8, 'min_samples_split': 3},\n",
       "  {'max_depth': 5, 'min_samples_leaf': 8, 'min_samples_split': 5},\n",
       "  {'max_depth': 10, 'min_samples_leaf': 1, 'min_samples_split': 2},\n",
       "  {'max_depth': 10, 'min_samples_leaf': 1, 'min_samples_split': 3},\n",
       "  {'max_depth': 10, 'min_samples_leaf': 1, 'min_samples_split': 5},\n",
       "  {'max_depth': 10, 'min_samples_leaf': 5, 'min_samples_split': 2},\n",
       "  {'max_depth': 10, 'min_samples_leaf': 5, 'min_samples_split': 3},\n",
       "  {'max_depth': 10, 'min_samples_leaf': 5, 'min_samples_split': 5},\n",
       "  {'max_depth': 10, 'min_samples_leaf': 8, 'min_samples_split': 2},\n",
       "  {'max_depth': 10, 'min_samples_leaf': 8, 'min_samples_split': 3},\n",
       "  {'max_depth': 10, 'min_samples_leaf': 8, 'min_samples_split': 5}],\n",
       " 'split0_test_score': array([0.73426573, 0.73426573, 0.73426573, 0.73426573, 0.73426573,\n",
       "        0.73426573, 0.73426573, 0.73426573, 0.73426573, 0.79020979,\n",
       "        0.79020979, 0.79020979, 0.79020979, 0.79020979, 0.79020979,\n",
       "        0.79020979, 0.79020979, 0.79020979, 0.72727273, 0.72727273,\n",
       "        0.72727273, 0.72027972, 0.72027972, 0.72027972, 0.72727273,\n",
       "        0.72727273, 0.72727273, 0.76223776, 0.76223776, 0.76923077,\n",
       "        0.72727273, 0.72727273, 0.72727273, 0.74825175, 0.74825175,\n",
       "        0.74825175]),\n",
       " 'split1_test_score': array([0.76923077, 0.76923077, 0.76923077, 0.76923077, 0.76923077,\n",
       "        0.76923077, 0.76923077, 0.76923077, 0.76923077, 0.7972028 ,\n",
       "        0.7972028 , 0.7972028 , 0.79020979, 0.79020979, 0.79020979,\n",
       "        0.79020979, 0.79020979, 0.79020979, 0.78321678, 0.78321678,\n",
       "        0.77622378, 0.78321678, 0.78321678, 0.78321678, 0.8041958 ,\n",
       "        0.8041958 , 0.8041958 , 0.74125874, 0.73426573, 0.73426573,\n",
       "        0.72027972, 0.72027972, 0.72027972, 0.75524476, 0.75524476,\n",
       "        0.75524476]),\n",
       " 'split2_test_score': array([0.75352113, 0.75352113, 0.75352113, 0.75352113, 0.75352113,\n",
       "        0.75352113, 0.75352113, 0.75352113, 0.75352113, 0.83098592,\n",
       "        0.83098592, 0.83098592, 0.83098592, 0.83098592, 0.83098592,\n",
       "        0.82394366, 0.82394366, 0.82394366, 0.8028169 , 0.82394366,\n",
       "        0.83802817, 0.83802817, 0.83802817, 0.83802817, 0.82394366,\n",
       "        0.82394366, 0.82394366, 0.81690141, 0.81690141, 0.81690141,\n",
       "        0.83802817, 0.83802817, 0.83802817, 0.83802817, 0.83802817,\n",
       "        0.83802817]),\n",
       " 'split3_test_score': array([0.78873239, 0.78873239, 0.78873239, 0.78873239, 0.78873239,\n",
       "        0.78873239, 0.78873239, 0.78873239, 0.78873239, 0.8028169 ,\n",
       "        0.8028169 , 0.8028169 , 0.8028169 , 0.8028169 , 0.8028169 ,\n",
       "        0.8028169 , 0.8028169 , 0.8028169 , 0.8028169 , 0.8028169 ,\n",
       "        0.8028169 , 0.81690141, 0.81690141, 0.81690141, 0.81690141,\n",
       "        0.81690141, 0.81690141, 0.81690141, 0.83098592, 0.83098592,\n",
       "        0.85915493, 0.85915493, 0.85915493, 0.83098592, 0.83098592,\n",
       "        0.83098592]),\n",
       " 'split4_test_score': array([0.74647887, 0.74647887, 0.74647887, 0.74647887, 0.74647887,\n",
       "        0.74647887, 0.74647887, 0.74647887, 0.74647887, 0.77464789,\n",
       "        0.77464789, 0.77464789, 0.78169014, 0.78169014, 0.78169014,\n",
       "        0.73239437, 0.73239437, 0.73239437, 0.78873239, 0.78169014,\n",
       "        0.78169014, 0.78873239, 0.78873239, 0.78873239, 0.77464789,\n",
       "        0.77464789, 0.77464789, 0.74647887, 0.76760563, 0.76760563,\n",
       "        0.78873239, 0.78873239, 0.78873239, 0.77464789, 0.77464789,\n",
       "        0.77464789]),\n",
       " 'mean_test_score': array([0.75844578, 0.75844578, 0.75844578, 0.75844578, 0.75844578,\n",
       "        0.75844578, 0.75844578, 0.75844578, 0.75844578, 0.79917266,\n",
       "        0.79917266, 0.79917266, 0.79918251, 0.79918251, 0.79918251,\n",
       "        0.7879149 , 0.7879149 , 0.7879149 , 0.78097114, 0.78378804,\n",
       "        0.78520634, 0.7894317 , 0.7894317 , 0.7894317 , 0.7893923 ,\n",
       "        0.7893923 , 0.7893923 , 0.77675564, 0.78239929, 0.78379789,\n",
       "        0.78669359, 0.78669359, 0.78669359, 0.7894317 , 0.7894317 ,\n",
       "        0.7894317 ]),\n",
       " 'std_test_score': array([0.0188983 , 0.0188983 , 0.0188983 , 0.0188983 , 0.0188983 ,\n",
       "        0.0188983 , 0.0188983 , 0.0188983 , 0.0188983 , 0.01849887,\n",
       "        0.01849887, 0.01849887, 0.01727233, 0.01727233, 0.01727233,\n",
       "        0.030375  , 0.030375  , 0.030375  , 0.0279402 , 0.03216607,\n",
       "        0.0361929 , 0.03984297, 0.03984297, 0.03984297, 0.03534383,\n",
       "        0.03534383, 0.03534383, 0.0334988 , 0.03603675, 0.03535641,\n",
       "        0.05627021, 0.05627021, 0.05627021, 0.03787206, 0.03787206,\n",
       "        0.03787206]),\n",
       " 'rank_test_score': array([28, 28, 28, 28, 28, 28, 28, 28, 28,  4,  4,  4,  1,  1,  1, 16, 16,\n",
       "        16, 26, 24, 22,  7,  7,  7, 13, 13, 13, 27, 25, 23, 19, 19, 19,  7,\n",
       "         7,  7])}"
      ]
     },
     "execution_count": 66,
     "metadata": {},
     "output_type": "execute_result"
    }
   ],
   "source": [
    "grid_dclf.cv_results_"
   ]
  },
  {
   "cell_type": "code",
   "execution_count": 67,
   "id": "70e72a1b-acec-4996-a9bf-82b72341c09f",
   "metadata": {},
   "outputs": [
    {
     "data": {
      "text/plain": [
       "{'max_depth': 3, 'min_samples_leaf': 5, 'min_samples_split': 2}"
      ]
     },
     "execution_count": 67,
     "metadata": {},
     "output_type": "execute_result"
    }
   ],
   "source": [
    "grid_dclf.best_params_"
   ]
  },
  {
   "cell_type": "code",
   "execution_count": 68,
   "id": "2fedc0f5-b732-4de9-b763-3a8cd941b238",
   "metadata": {},
   "outputs": [
    {
     "data": {
      "text/plain": [
       "0.7991825076332119"
      ]
     },
     "execution_count": 68,
     "metadata": {},
     "output_type": "execute_result"
    }
   ],
   "source": [
    "grid_dclf.best_score_"
   ]
  },
  {
   "cell_type": "code",
   "execution_count": 70,
   "id": "867ffbea-1a8f-43b6-96fc-7740a0e73852",
   "metadata": {},
   "outputs": [],
   "source": [
    "best_dclf = grid_dclf.best_estimator_"
   ]
  },
  {
   "cell_type": "code",
   "execution_count": 71,
   "id": "e592c979-d64d-45e7-9f33-13a64a1832d5",
   "metadata": {},
   "outputs": [],
   "source": [
    "dpred = best_dclf.predict(X_test)"
   ]
  },
  {
   "cell_type": "code",
   "execution_count": 72,
   "id": "7ea738a7-7147-4d88-a709-e190d97fcd5f",
   "metadata": {},
   "outputs": [
    {
     "data": {
      "text/plain": [
       "0.8715083798882681"
      ]
     },
     "execution_count": 72,
     "metadata": {},
     "output_type": "execute_result"
    }
   ],
   "source": [
    "accuracy_score(y_test,dpred)"
   ]
  },
  {
   "cell_type": "code",
   "execution_count": null,
   "id": "d9f3ab7e-bd42-47f6-8514-daa2f7ef37f2",
   "metadata": {},
   "outputs": [],
   "source": []
  }
 ],
 "metadata": {
  "kernelspec": {
   "display_name": "Python 3 (ipykernel)",
   "language": "python",
   "name": "python3"
  },
  "language_info": {
   "codemirror_mode": {
    "name": "ipython",
    "version": 3
   },
   "file_extension": ".py",
   "mimetype": "text/x-python",
   "name": "python",
   "nbconvert_exporter": "python",
   "pygments_lexer": "ipython3",
   "version": "3.9.7"
  }
 },
 "nbformat": 4,
 "nbformat_minor": 5
}
