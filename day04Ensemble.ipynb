{
 "cells": [
  {
   "cell_type": "code",
   "execution_count": 1,
   "id": "58069f14-5bc5-4618-8cc7-a6d2bc773e29",
   "metadata": {},
   "outputs": [],
   "source": [
    "import pandas as pd\n",
    "from sklearn.ensemble import VotingClassifier\n",
    "from sklearn.linear_model import LogisticRegression\n",
    "from sklearn.neighbors import KNeighborsClassifier\n",
    "from sklearn.datasets import load_breast_cancer\n",
    "from sklearn.model_selection import train_test_split\n",
    "from sklearn.metrics import accuracy_score\n",
    "import warnings\n",
    "warnings.filterwarnings('ignore')"
   ]
  },
  {
   "cell_type": "code",
   "execution_count": 28,
   "id": "7eb2a52f-be07-4eb4-9ced-ef461cbd831f",
   "metadata": {},
   "outputs": [
    {
     "data": {
      "text/plain": [
       "dict_keys(['data', 'target', 'frame', 'target_names', 'DESCR', 'feature_names', 'filename'])"
      ]
     },
     "execution_count": 28,
     "metadata": {},
     "output_type": "execute_result"
    }
   ],
   "source": [
    "cancer = load_breast_cancer()\n",
    "cancer.keys()"
   ]
  },
  {
   "cell_type": "code",
   "execution_count": 29,
   "id": "effb441e-0e0c-4f16-a22d-668bb8c1593e",
   "metadata": {
    "tags": []
   },
   "outputs": [
    {
     "data": {
      "text/plain": [
       "array([0, 0, 0, 0, 0, 0, 0, 0, 0, 0, 0, 0, 0, 0, 0, 0, 0, 0, 0, 1, 1, 1,\n",
       "       0, 0, 0, 0, 0, 0, 0, 0, 0, 0, 0, 0, 0, 0, 0, 1, 0, 0, 0, 0, 0, 0,\n",
       "       0, 0, 1, 0, 1, 1, 1, 1, 1, 0, 0, 1, 0, 0, 1, 1, 1, 1, 0, 1, 0, 0,\n",
       "       1, 1, 1, 1, 0, 1, 0, 0, 1, 0, 1, 0, 0, 1, 1, 1, 0, 0, 1, 0, 0, 0,\n",
       "       1, 1, 1, 0, 1, 1, 0, 0, 1, 1, 1, 0, 0, 1, 1, 1, 1, 0, 1, 1, 0, 1,\n",
       "       1, 1, 1, 1, 1, 1, 1, 0, 0, 0, 1, 0, 0, 1, 1, 1, 0, 0, 1, 0, 1, 0,\n",
       "       0, 1, 0, 0, 1, 1, 0, 1, 1, 0, 1, 1, 1, 1, 0, 1, 1, 1, 1, 1, 1, 1,\n",
       "       1, 1, 0, 1, 1, 1, 1, 0, 0, 1, 0, 1, 1, 0, 0, 1, 1, 0, 0, 1, 1, 1,\n",
       "       1, 0, 1, 1, 0, 0, 0, 1, 0, 1, 0, 1, 1, 1, 0, 1, 1, 0, 0, 1, 0, 0,\n",
       "       0, 0, 1, 0, 0, 0, 1, 0, 1, 0, 1, 1, 0, 1, 0, 0, 0, 0, 1, 1, 0, 0,\n",
       "       1, 1, 1, 0, 1, 1, 1, 1, 1, 0, 0, 1, 1, 0, 1, 1, 0, 0, 1, 0, 1, 1,\n",
       "       1, 1, 0, 1, 1, 1, 1, 1, 0, 1, 0, 0, 0, 0, 0, 0, 0, 0, 0, 0, 0, 0,\n",
       "       0, 0, 1, 1, 1, 1, 1, 1, 0, 1, 0, 1, 1, 0, 1, 1, 0, 1, 0, 0, 1, 1,\n",
       "       1, 1, 1, 1, 1, 1, 1, 1, 1, 1, 1, 0, 1, 1, 0, 1, 0, 1, 1, 1, 1, 1,\n",
       "       1, 1, 1, 1, 1, 1, 1, 1, 1, 0, 1, 1, 1, 0, 1, 0, 1, 1, 1, 1, 0, 0,\n",
       "       0, 1, 1, 1, 1, 0, 1, 0, 1, 0, 1, 1, 1, 0, 1, 1, 1, 1, 1, 1, 1, 0,\n",
       "       0, 0, 1, 1, 1, 1, 1, 1, 1, 1, 1, 1, 1, 0, 0, 1, 0, 0, 0, 1, 0, 0,\n",
       "       1, 1, 1, 1, 1, 0, 1, 1, 1, 1, 1, 0, 1, 1, 1, 0, 1, 1, 0, 0, 1, 1,\n",
       "       1, 1, 1, 1, 0, 1, 1, 1, 1, 1, 1, 1, 0, 1, 1, 1, 1, 1, 0, 1, 1, 0,\n",
       "       1, 1, 1, 1, 1, 1, 1, 1, 1, 1, 1, 1, 0, 1, 0, 0, 1, 0, 1, 1, 1, 1,\n",
       "       1, 0, 1, 1, 0, 1, 0, 1, 1, 0, 1, 0, 1, 1, 1, 1, 1, 1, 1, 1, 0, 0,\n",
       "       1, 1, 1, 1, 1, 1, 0, 1, 1, 1, 1, 1, 1, 1, 1, 1, 1, 0, 1, 1, 1, 1,\n",
       "       1, 1, 1, 0, 1, 0, 1, 1, 0, 1, 1, 1, 1, 1, 0, 0, 1, 0, 1, 0, 1, 1,\n",
       "       1, 1, 1, 0, 1, 1, 0, 1, 0, 1, 0, 0, 1, 1, 1, 0, 1, 1, 1, 1, 1, 1,\n",
       "       1, 1, 1, 1, 1, 0, 1, 0, 0, 1, 1, 1, 1, 1, 1, 1, 1, 1, 1, 1, 1, 1,\n",
       "       1, 1, 1, 1, 1, 1, 1, 1, 1, 1, 1, 1, 0, 0, 0, 0, 0, 0, 1])"
      ]
     },
     "execution_count": 29,
     "metadata": {},
     "output_type": "execute_result"
    }
   ],
   "source": [
    "cancer.target"
   ]
  },
  {
   "cell_type": "code",
   "execution_count": 30,
   "id": "6dfaf358-b7b3-4b39-b23a-54fc9857a0a5",
   "metadata": {},
   "outputs": [
    {
     "data": {
      "text/plain": [
       "array(['malignant', 'benign'], dtype='<U9')"
      ]
     },
     "execution_count": 30,
     "metadata": {},
     "output_type": "execute_result"
    }
   ],
   "source": [
    "cancer.target_names"
   ]
  },
  {
   "cell_type": "code",
   "execution_count": 31,
   "id": "3b4cd769-7576-4af0-a6a1-5720fcb07c7d",
   "metadata": {},
   "outputs": [
    {
     "data": {
      "text/html": [
       "<div>\n",
       "<style scoped>\n",
       "    .dataframe tbody tr th:only-of-type {\n",
       "        vertical-align: middle;\n",
       "    }\n",
       "\n",
       "    .dataframe tbody tr th {\n",
       "        vertical-align: top;\n",
       "    }\n",
       "\n",
       "    .dataframe thead th {\n",
       "        text-align: right;\n",
       "    }\n",
       "</style>\n",
       "<table border=\"1\" class=\"dataframe\">\n",
       "  <thead>\n",
       "    <tr style=\"text-align: right;\">\n",
       "      <th></th>\n",
       "      <th>mean radius</th>\n",
       "      <th>mean texture</th>\n",
       "      <th>mean perimeter</th>\n",
       "      <th>mean area</th>\n",
       "      <th>mean smoothness</th>\n",
       "      <th>mean compactness</th>\n",
       "      <th>mean concavity</th>\n",
       "      <th>mean concave points</th>\n",
       "      <th>mean symmetry</th>\n",
       "      <th>mean fractal dimension</th>\n",
       "      <th>...</th>\n",
       "      <th>worst radius</th>\n",
       "      <th>worst texture</th>\n",
       "      <th>worst perimeter</th>\n",
       "      <th>worst area</th>\n",
       "      <th>worst smoothness</th>\n",
       "      <th>worst compactness</th>\n",
       "      <th>worst concavity</th>\n",
       "      <th>worst concave points</th>\n",
       "      <th>worst symmetry</th>\n",
       "      <th>worst fractal dimension</th>\n",
       "    </tr>\n",
       "  </thead>\n",
       "  <tbody>\n",
       "    <tr>\n",
       "      <th>0</th>\n",
       "      <td>17.99</td>\n",
       "      <td>10.38</td>\n",
       "      <td>122.8</td>\n",
       "      <td>1001.0</td>\n",
       "      <td>0.11840</td>\n",
       "      <td>0.27760</td>\n",
       "      <td>0.3001</td>\n",
       "      <td>0.14710</td>\n",
       "      <td>0.2419</td>\n",
       "      <td>0.07871</td>\n",
       "      <td>...</td>\n",
       "      <td>25.38</td>\n",
       "      <td>17.33</td>\n",
       "      <td>184.6</td>\n",
       "      <td>2019.0</td>\n",
       "      <td>0.1622</td>\n",
       "      <td>0.6656</td>\n",
       "      <td>0.7119</td>\n",
       "      <td>0.2654</td>\n",
       "      <td>0.4601</td>\n",
       "      <td>0.11890</td>\n",
       "    </tr>\n",
       "    <tr>\n",
       "      <th>1</th>\n",
       "      <td>20.57</td>\n",
       "      <td>17.77</td>\n",
       "      <td>132.9</td>\n",
       "      <td>1326.0</td>\n",
       "      <td>0.08474</td>\n",
       "      <td>0.07864</td>\n",
       "      <td>0.0869</td>\n",
       "      <td>0.07017</td>\n",
       "      <td>0.1812</td>\n",
       "      <td>0.05667</td>\n",
       "      <td>...</td>\n",
       "      <td>24.99</td>\n",
       "      <td>23.41</td>\n",
       "      <td>158.8</td>\n",
       "      <td>1956.0</td>\n",
       "      <td>0.1238</td>\n",
       "      <td>0.1866</td>\n",
       "      <td>0.2416</td>\n",
       "      <td>0.1860</td>\n",
       "      <td>0.2750</td>\n",
       "      <td>0.08902</td>\n",
       "    </tr>\n",
       "  </tbody>\n",
       "</table>\n",
       "<p>2 rows × 30 columns</p>\n",
       "</div>"
      ],
      "text/plain": [
       "   mean radius  mean texture  mean perimeter  mean area  mean smoothness  \\\n",
       "0        17.99         10.38           122.8     1001.0          0.11840   \n",
       "1        20.57         17.77           132.9     1326.0          0.08474   \n",
       "\n",
       "   mean compactness  mean concavity  mean concave points  mean symmetry  \\\n",
       "0           0.27760          0.3001              0.14710         0.2419   \n",
       "1           0.07864          0.0869              0.07017         0.1812   \n",
       "\n",
       "   mean fractal dimension  ...  worst radius  worst texture  worst perimeter  \\\n",
       "0                 0.07871  ...         25.38          17.33            184.6   \n",
       "1                 0.05667  ...         24.99          23.41            158.8   \n",
       "\n",
       "   worst area  worst smoothness  worst compactness  worst concavity  \\\n",
       "0      2019.0            0.1622             0.6656           0.7119   \n",
       "1      1956.0            0.1238             0.1866           0.2416   \n",
       "\n",
       "   worst concave points  worst symmetry  worst fractal dimension  \n",
       "0                0.2654          0.4601                  0.11890  \n",
       "1                0.1860          0.2750                  0.08902  \n",
       "\n",
       "[2 rows x 30 columns]"
      ]
     },
     "execution_count": 31,
     "metadata": {},
     "output_type": "execute_result"
    }
   ],
   "source": [
    "data_df=pd.DataFrame(cancer.data,columns=cancer.feature_names)\n",
    "data_df.head(2)"
   ]
  },
  {
   "cell_type": "code",
   "execution_count": 6,
   "id": "c61319af-6aa3-4e76-92f1-87c855f946a2",
   "metadata": {
    "tags": []
   },
   "outputs": [
    {
     "name": "stdout",
     "output_type": "stream",
     "text": [
      "<class 'pandas.core.frame.DataFrame'>\n",
      "RangeIndex: 569 entries, 0 to 568\n",
      "Data columns (total 30 columns):\n",
      " #   Column                   Non-Null Count  Dtype  \n",
      "---  ------                   --------------  -----  \n",
      " 0   mean radius              569 non-null    float64\n",
      " 1   mean texture             569 non-null    float64\n",
      " 2   mean perimeter           569 non-null    float64\n",
      " 3   mean area                569 non-null    float64\n",
      " 4   mean smoothness          569 non-null    float64\n",
      " 5   mean compactness         569 non-null    float64\n",
      " 6   mean concavity           569 non-null    float64\n",
      " 7   mean concave points      569 non-null    float64\n",
      " 8   mean symmetry            569 non-null    float64\n",
      " 9   mean fractal dimension   569 non-null    float64\n",
      " 10  radius error             569 non-null    float64\n",
      " 11  texture error            569 non-null    float64\n",
      " 12  perimeter error          569 non-null    float64\n",
      " 13  area error               569 non-null    float64\n",
      " 14  smoothness error         569 non-null    float64\n",
      " 15  compactness error        569 non-null    float64\n",
      " 16  concavity error          569 non-null    float64\n",
      " 17  concave points error     569 non-null    float64\n",
      " 18  symmetry error           569 non-null    float64\n",
      " 19  fractal dimension error  569 non-null    float64\n",
      " 20  worst radius             569 non-null    float64\n",
      " 21  worst texture            569 non-null    float64\n",
      " 22  worst perimeter          569 non-null    float64\n",
      " 23  worst area               569 non-null    float64\n",
      " 24  worst smoothness         569 non-null    float64\n",
      " 25  worst compactness        569 non-null    float64\n",
      " 26  worst concavity          569 non-null    float64\n",
      " 27  worst concave points     569 non-null    float64\n",
      " 28  worst symmetry           569 non-null    float64\n",
      " 29  worst fractal dimension  569 non-null    float64\n",
      "dtypes: float64(30)\n",
      "memory usage: 133.5 KB\n"
     ]
    }
   ],
   "source": [
    "data_df.info()"
   ]
  },
  {
   "cell_type": "code",
   "execution_count": 7,
   "id": "2d786dc2-04ba-41bd-884a-6f0cde8555ba",
   "metadata": {},
   "outputs": [],
   "source": [
    "lr_clf = LogisticRegression()"
   ]
  },
  {
   "cell_type": "code",
   "execution_count": 8,
   "id": "46442224-738e-4e64-92e7-8f66a8f1538d",
   "metadata": {},
   "outputs": [],
   "source": [
    "knn_clf = KNeighborsClassifier(n_neighbors=8)"
   ]
  },
  {
   "cell_type": "code",
   "execution_count": 9,
   "id": "0aaf9887-350d-4b43-913a-9ab45386ab0f",
   "metadata": {},
   "outputs": [],
   "source": [
    "vo_clf = VotingClassifier([('LR',lr_clf),('KNN',knn_clf)],voting='soft')"
   ]
  },
  {
   "cell_type": "code",
   "execution_count": 10,
   "id": "a5996e40-5853-4136-8593-555a66e010fa",
   "metadata": {},
   "outputs": [],
   "source": [
    "X_train, X_test, y_train, y_test = train_test_split(cancer.data,\n",
    "                                                   cancer.target,\n",
    "                                                   test_size=0.2,\n",
    "                                                    random_state=156)                                                   "
   ]
  },
  {
   "cell_type": "code",
   "execution_count": 11,
   "id": "f4942824-b400-41e4-a0cb-134b14e1c6cc",
   "metadata": {},
   "outputs": [
    {
     "data": {
      "text/plain": [
       "0.9473684210526315"
      ]
     },
     "execution_count": 11,
     "metadata": {},
     "output_type": "execute_result"
    }
   ],
   "source": [
    "vo_clf.fit(X_train,y_train)\n",
    "pred = vo_clf.predict(X_test)\n",
    "accuracy_score(y_test,pred)"
   ]
  },
  {
   "cell_type": "code",
   "execution_count": 12,
   "id": "957c9b74-6a13-4d77-bd17-23b5fd8d92fd",
   "metadata": {},
   "outputs": [
    {
     "name": "stdout",
     "output_type": "stream",
     "text": [
      "LogisticRegression 정확도 : 0.9386\n",
      "KNeighborsClassifier 정확도 : 0.9386\n"
     ]
    }
   ],
   "source": [
    "classifiers = [lr_clf,knn_clf]\n",
    "for classifier in classifiers:\n",
    "    classifier.fit(X_train,y_train)\n",
    "    pred = classifier.predict(X_test)\n",
    "    print(f'{classifier.__class__.__name__} 정확도 : {accuracy_score(y_test,pred):.4f}')"
   ]
  },
  {
   "cell_type": "code",
   "execution_count": 14,
   "id": "472031ea-1fee-4f3d-8206-01b8fcd4292f",
   "metadata": {},
   "outputs": [],
   "source": [
    "from sklearn.ensemble import RandomForestClassifier"
   ]
  },
  {
   "cell_type": "code",
   "execution_count": 15,
   "id": "e01cab30-d327-4303-9464-2d0dff0d70fc",
   "metadata": {},
   "outputs": [
    {
     "data": {
      "text/plain": [
       "0.956140350877193"
      ]
     },
     "execution_count": 15,
     "metadata": {},
     "output_type": "execute_result"
    }
   ],
   "source": [
    "rf_clf = RandomForestClassifier(random_state=0)\n",
    "rf_clf.fit(X_train,y_train)\n",
    "pred = rf_clf.predict(X_test)\n",
    "accuracy_score(y_test,pred)"
   ]
  },
  {
   "cell_type": "code",
   "execution_count": 17,
   "id": "581516a4-2484-4554-9148-11b1308e63af",
   "metadata": {
    "tags": []
   },
   "outputs": [],
   "source": [
    "def get_new_feature_name_df(old_feature_name_df):\n",
    "    feature_dup_df = pd.DataFrame(data=old_feature_name_df.groupby('column_name').cumcount(),\n",
    "                                  columns=['dup_cnt'])\n",
    "    feature_dup_df = feature_dup_df.reset_index()\n",
    "    new_feature_name_df = pd.merge(old_feature_name_df.reset_index(), feature_dup_df, how='outer')\n",
    "    new_feature_name_df['column_name'] = new_feature_name_df[['column_name', 'dup_cnt']].apply(lambda x : x[0]+'_'+str(x[1]) \n",
    "                                                                                         if x[1] >0 else x[0] ,  axis=1)\n",
    "    new_feature_name_df = new_feature_name_df.drop(['index'], axis=1)\n",
    "    return new_feature_name_df\n",
    "\n",
    "import pandas as pd\n",
    "\n",
    "def get_human_dataset( ):\n",
    "    \n",
    "    # 각 데이터 파일들은 공백으로 분리되어 있으므로 read_csv에서 공백 문자를 sep으로 할당.\n",
    "    feature_name_df = pd.read_csv('./human_activity/features.txt',sep='\\s+',\n",
    "                        header=None,names=['column_index','column_name'])\n",
    "    \n",
    "    # 중복된 피처명을 수정하는 get_new_feature_name_df()를 이용, 신규 피처명 DataFrame생성. \n",
    "    new_feature_name_df = get_new_feature_name_df(feature_name_df)\n",
    "    \n",
    "    # DataFrame에 피처명을 컬럼으로 부여하기 위해 리스트 객체로 다시 변환\n",
    "    feature_name = new_feature_name_df.iloc[:, 1].values.tolist()\n",
    "    \n",
    "    # 학습 피처 데이터 셋과 테스트 피처 데이터을 DataFrame으로 로딩. 컬럼명은 feature_name 적용\n",
    "    X_train = pd.read_csv('./human_activity/train/X_train.txt',sep='\\s+', names=feature_name )\n",
    "    X_test = pd.read_csv('./human_activity/test/X_test.txt',sep='\\s+', names=feature_name)\n",
    "    \n",
    "    # 학습 레이블과 테스트 레이블 데이터을 DataFrame으로 로딩하고 컬럼명은 action으로 부여\n",
    "    y_train = pd.read_csv('./human_activity/train/y_train.txt',sep='\\s+',header=None,names=['action'])\n",
    "    y_test = pd.read_csv('./human_activity/test/y_test.txt',sep='\\s+',header=None,names=['action'])\n",
    "    \n",
    "    # 로드된 학습/테스트용 DataFrame을 모두 반환 \n",
    "    return X_train, X_test, y_train, y_test\n",
    "\n",
    "\n",
    "X_train, X_test, y_train, y_test = get_human_dataset()"
   ]
  },
  {
   "cell_type": "code",
   "execution_count": 18,
   "id": "4784cb39-b04c-4091-88a5-c6193cae2af0",
   "metadata": {},
   "outputs": [],
   "source": [
    "X_train,X_test,y_train,y_test = get_human_dataset()"
   ]
  },
  {
   "cell_type": "code",
   "execution_count": 19,
   "id": "df8d0916-5511-4e20-ad4f-a7fec1f0289a",
   "metadata": {},
   "outputs": [
    {
     "data": {
      "text/plain": [
       "0.9253478113335596"
      ]
     },
     "execution_count": 19,
     "metadata": {},
     "output_type": "execute_result"
    }
   ],
   "source": [
    "rf_clf = RandomForestClassifier(random_state=0)\n",
    "rf_clf.fit(X_train,y_train)\n",
    "pred = rf_clf.predict(X_test)\n",
    "accuracy_score(y_test,pred)"
   ]
  },
  {
   "cell_type": "code",
   "execution_count": 19,
   "id": "d6c0a6ad-26e5-4807-b2dc-786572090e1d",
   "metadata": {},
   "outputs": [
    {
     "name": "stdout",
     "output_type": "stream",
     "text": [
      "LogisticRegression 정확도 : 0.9593\n",
      "KNeighborsClassifier 정확도 : 0.9074\n"
     ]
    }
   ],
   "source": [
    "classifiers = [lr_clf,knn_clf]\n",
    "for classifier in classifiers:\n",
    "    classifier.fit(X_train,y_train)\n",
    "    pred = classifier.predict(X_test)\n",
    "    print(f'{classifier.__class__.__name__} 정확도 : {accuracy_score(y_test,pred):.4f}')"
   ]
  },
  {
   "cell_type": "code",
   "execution_count": 20,
   "id": "45506951-c81e-43d5-b06e-2d95722a0816",
   "metadata": {},
   "outputs": [],
   "source": [
    "from sklearn.model_selection import GridSearchCV"
   ]
  },
  {
   "cell_type": "code",
   "execution_count": 21,
   "id": "6455468b-8252-419f-97f1-efeaa272c159",
   "metadata": {},
   "outputs": [
    {
     "data": {
      "text/plain": [
       "({'max_depth': 10,\n",
       "  'min_samples_leaf': 8,\n",
       "  'min_samples_split': 18,\n",
       "  'n_estimators': 100},\n",
       " 0.9182535364526659)"
      ]
     },
     "execution_count": 21,
     "metadata": {},
     "output_type": "execute_result"
    }
   ],
   "source": [
    "params = {\n",
    "    'n_estimators':[100],\n",
    "    'max_depth':[6,8,10,12],\n",
    "    'min_samples_split':[8,12,18],\n",
    "    'min_samples_leaf':[8,16,20]\n",
    "}\n",
    "rf_clf = RandomForestClassifier(random_state=0,n_jobs=1)\n",
    "grid_cv = GridSearchCV(rf_clf,param_grid=params,cv=2,n_jobs=-1)\n",
    "grid_cv.fit(X_train,y_train)\n",
    "grid_cv.best_params_,grid_cv.best_score_"
   ]
  },
  {
   "cell_type": "code",
   "execution_count": 23,
   "id": "1113f810-8f0c-4198-83bf-7fd8f3e70346",
   "metadata": {},
   "outputs": [
    {
     "data": {
      "text/plain": [
       "0.9226331862911435"
      ]
     },
     "execution_count": 23,
     "metadata": {},
     "output_type": "execute_result"
    }
   ],
   "source": [
    "rf_clf = RandomForestClassifier(n_estimators=300,\n",
    "                                max_depth=10,\n",
    "                                min_samples_split=2,\n",
    "                                min_samples_leaf=1,\n",
    "                                random_state=0)\n",
    "rf_clf.fit(X_train,y_train)\n",
    "pred = rf_clf.predict(X_test)\n",
    "accuracy_score(y_test,pred)"
   ]
  },
  {
   "cell_type": "code",
   "execution_count": 24,
   "id": "3b96b6c1-2bc3-4c69-9263-58a861eacf78",
   "metadata": {},
   "outputs": [],
   "source": [
    "from sklearn.ensemble import GradientBoostingClassifier"
   ]
  },
  {
   "cell_type": "code",
   "execution_count": 25,
   "id": "996953d6-9048-4244-867d-fd3c384bd685",
   "metadata": {},
   "outputs": [
    {
     "name": "stdout",
     "output_type": "stream",
     "text": [
      "GBM 정확도 : 0.9382\n",
      "Wall time: 7min 31s\n"
     ]
    }
   ],
   "source": [
    "%%time\n",
    "gb_clf = GradientBoostingClassifier()\n",
    "gb_clf.fit(X_train,y_train)\n",
    "gb_pred = gb_clf.predict(X_test)\n",
    "gb_accuracy = accuracy_score(y_test,gb_pred)\n",
    "print(f'GBM 정확도 : {gb_accuracy:.4f}')"
   ]
  },
  {
   "cell_type": "code",
   "execution_count": 26,
   "id": "06e50fab-5739-4fc6-8500-8611cda702e7",
   "metadata": {},
   "outputs": [],
   "source": [
    "import xgboost as xgb\n",
    "from xgboost import XGBClassifier"
   ]
  },
  {
   "cell_type": "code",
   "execution_count": 33,
   "id": "52f5aa20-e830-4e9e-818c-44d938dad499",
   "metadata": {
    "tags": []
   },
   "outputs": [],
   "source": [
    "dataset = load_breast_cancer()"
   ]
  },
  {
   "cell_type": "code",
   "execution_count": 34,
   "id": "b4299675-da2f-4cf8-b6a4-9c29aebbc7fe",
   "metadata": {},
   "outputs": [
    {
     "data": {
      "text/html": [
       "<div>\n",
       "<style scoped>\n",
       "    .dataframe tbody tr th:only-of-type {\n",
       "        vertical-align: middle;\n",
       "    }\n",
       "\n",
       "    .dataframe tbody tr th {\n",
       "        vertical-align: top;\n",
       "    }\n",
       "\n",
       "    .dataframe thead th {\n",
       "        text-align: right;\n",
       "    }\n",
       "</style>\n",
       "<table border=\"1\" class=\"dataframe\">\n",
       "  <thead>\n",
       "    <tr style=\"text-align: right;\">\n",
       "      <th></th>\n",
       "      <th>mean radius</th>\n",
       "      <th>mean texture</th>\n",
       "      <th>mean perimeter</th>\n",
       "      <th>mean area</th>\n",
       "      <th>mean smoothness</th>\n",
       "      <th>mean compactness</th>\n",
       "      <th>mean concavity</th>\n",
       "      <th>mean concave points</th>\n",
       "      <th>mean symmetry</th>\n",
       "      <th>mean fractal dimension</th>\n",
       "      <th>...</th>\n",
       "      <th>worst texture</th>\n",
       "      <th>worst perimeter</th>\n",
       "      <th>worst area</th>\n",
       "      <th>worst smoothness</th>\n",
       "      <th>worst compactness</th>\n",
       "      <th>worst concavity</th>\n",
       "      <th>worst concave points</th>\n",
       "      <th>worst symmetry</th>\n",
       "      <th>worst fractal dimension</th>\n",
       "      <th>target</th>\n",
       "    </tr>\n",
       "  </thead>\n",
       "  <tbody>\n",
       "    <tr>\n",
       "      <th>0</th>\n",
       "      <td>17.99</td>\n",
       "      <td>10.38</td>\n",
       "      <td>122.8</td>\n",
       "      <td>1001.0</td>\n",
       "      <td>0.11840</td>\n",
       "      <td>0.27760</td>\n",
       "      <td>0.3001</td>\n",
       "      <td>0.14710</td>\n",
       "      <td>0.2419</td>\n",
       "      <td>0.07871</td>\n",
       "      <td>...</td>\n",
       "      <td>17.33</td>\n",
       "      <td>184.6</td>\n",
       "      <td>2019.0</td>\n",
       "      <td>0.1622</td>\n",
       "      <td>0.6656</td>\n",
       "      <td>0.7119</td>\n",
       "      <td>0.2654</td>\n",
       "      <td>0.4601</td>\n",
       "      <td>0.11890</td>\n",
       "      <td>0</td>\n",
       "    </tr>\n",
       "    <tr>\n",
       "      <th>1</th>\n",
       "      <td>20.57</td>\n",
       "      <td>17.77</td>\n",
       "      <td>132.9</td>\n",
       "      <td>1326.0</td>\n",
       "      <td>0.08474</td>\n",
       "      <td>0.07864</td>\n",
       "      <td>0.0869</td>\n",
       "      <td>0.07017</td>\n",
       "      <td>0.1812</td>\n",
       "      <td>0.05667</td>\n",
       "      <td>...</td>\n",
       "      <td>23.41</td>\n",
       "      <td>158.8</td>\n",
       "      <td>1956.0</td>\n",
       "      <td>0.1238</td>\n",
       "      <td>0.1866</td>\n",
       "      <td>0.2416</td>\n",
       "      <td>0.1860</td>\n",
       "      <td>0.2750</td>\n",
       "      <td>0.08902</td>\n",
       "      <td>0</td>\n",
       "    </tr>\n",
       "    <tr>\n",
       "      <th>2</th>\n",
       "      <td>19.69</td>\n",
       "      <td>21.25</td>\n",
       "      <td>130.0</td>\n",
       "      <td>1203.0</td>\n",
       "      <td>0.10960</td>\n",
       "      <td>0.15990</td>\n",
       "      <td>0.1974</td>\n",
       "      <td>0.12790</td>\n",
       "      <td>0.2069</td>\n",
       "      <td>0.05999</td>\n",
       "      <td>...</td>\n",
       "      <td>25.53</td>\n",
       "      <td>152.5</td>\n",
       "      <td>1709.0</td>\n",
       "      <td>0.1444</td>\n",
       "      <td>0.4245</td>\n",
       "      <td>0.4504</td>\n",
       "      <td>0.2430</td>\n",
       "      <td>0.3613</td>\n",
       "      <td>0.08758</td>\n",
       "      <td>0</td>\n",
       "    </tr>\n",
       "  </tbody>\n",
       "</table>\n",
       "<p>3 rows × 31 columns</p>\n",
       "</div>"
      ],
      "text/plain": [
       "   mean radius  mean texture  mean perimeter  mean area  mean smoothness  \\\n",
       "0        17.99         10.38           122.8     1001.0          0.11840   \n",
       "1        20.57         17.77           132.9     1326.0          0.08474   \n",
       "2        19.69         21.25           130.0     1203.0          0.10960   \n",
       "\n",
       "   mean compactness  mean concavity  mean concave points  mean symmetry  \\\n",
       "0           0.27760          0.3001              0.14710         0.2419   \n",
       "1           0.07864          0.0869              0.07017         0.1812   \n",
       "2           0.15990          0.1974              0.12790         0.2069   \n",
       "\n",
       "   mean fractal dimension  ...  worst texture  worst perimeter  worst area  \\\n",
       "0                 0.07871  ...          17.33            184.6      2019.0   \n",
       "1                 0.05667  ...          23.41            158.8      1956.0   \n",
       "2                 0.05999  ...          25.53            152.5      1709.0   \n",
       "\n",
       "   worst smoothness  worst compactness  worst concavity  worst concave points  \\\n",
       "0            0.1622             0.6656           0.7119                0.2654   \n",
       "1            0.1238             0.1866           0.2416                0.1860   \n",
       "2            0.1444             0.4245           0.4504                0.2430   \n",
       "\n",
       "   worst symmetry  worst fractal dimension  target  \n",
       "0          0.4601                  0.11890       0  \n",
       "1          0.2750                  0.08902       0  \n",
       "2          0.3613                  0.08758       0  \n",
       "\n",
       "[3 rows x 31 columns]"
      ]
     },
     "execution_count": 34,
     "metadata": {},
     "output_type": "execute_result"
    }
   ],
   "source": [
    "X_features = dataset.data\n",
    "y_label = dataset.target\n",
    "\n",
    "cancer_df = pd.DataFrame(data=X_features,columns=dataset.feature_names)\n",
    "cancer_df['target'] = y_label\n",
    "cancer_df.head(3)"
   ]
  },
  {
   "cell_type": "code",
   "execution_count": 35,
   "id": "f9885f12-3a51-44b2-9ef4-62cf3c6203ee",
   "metadata": {},
   "outputs": [
    {
     "data": {
      "text/plain": [
       "1    357\n",
       "0    212\n",
       "Name: target, dtype: int64"
      ]
     },
     "execution_count": 35,
     "metadata": {},
     "output_type": "execute_result"
    }
   ],
   "source": [
    "cancer_df['target'].value_counts()"
   ]
  },
  {
   "cell_type": "code",
   "execution_count": 36,
   "id": "49e3f65f-5b34-434f-b0b2-be29e13b905e",
   "metadata": {},
   "outputs": [],
   "source": [
    "X_train,X_test,y_train,y_test = train_test_split(X_features,\n",
    "                                                 y_label,\n",
    "                                                 test_size=0.2,\n",
    "                                                 random_state=156)                                                    "
   ]
  },
  {
   "cell_type": "code",
   "execution_count": 37,
   "id": "e334cc13-1bee-4e75-a951-510c004bae3e",
   "metadata": {},
   "outputs": [
    {
     "data": {
      "text/plain": [
       "((455, 30), (114, 30))"
      ]
     },
     "execution_count": 37,
     "metadata": {},
     "output_type": "execute_result"
    }
   ],
   "source": [
    "X_train.shape,X_test.shape"
   ]
  },
  {
   "cell_type": "code",
   "execution_count": 38,
   "id": "5384a741-8c98-4dce-b48f-6c6a5da665de",
   "metadata": {},
   "outputs": [],
   "source": [
    "dtrain = xgb.DMatrix(data=X_train, label=y_train)\n",
    "dtest = xgb.DMatrix(data=X_test, label=y_test)"
   ]
  },
  {
   "cell_type": "code",
   "execution_count": 39,
   "id": "8cddd304-2468-4e15-a975-49179efafb59",
   "metadata": {
    "collapsed": true,
    "jupyter": {
     "outputs_hidden": true
    },
    "tags": []
   },
   "outputs": [
    {
     "name": "stdout",
     "output_type": "stream",
     "text": [
      "[16:13:07] WARNING: ..\\src\\learner.cc:576: \n",
      "Parameters: { \"early_stoppings\" } might not be used.\n",
      "\n",
      "  This could be a false alarm, with some parameters getting used by language bindings but\n",
      "  then being mistakenly passed down to XGBoost core, or some parameter actually being used\n",
      "  but getting flagged wrongly here. Please open an issue if you find any such cases.\n",
      "\n",
      "\n",
      "[0]\ttrain-logloss:0.46775\ttest-logloss:0.47984\n",
      "[1]\ttrain-logloss:0.33578\ttest-logloss:0.36218\n",
      "[2]\ttrain-logloss:0.25254\ttest-logloss:0.29004\n",
      "[3]\ttrain-logloss:0.19584\ttest-logloss:0.23382\n",
      "[4]\ttrain-logloss:0.15664\ttest-logloss:0.19901\n",
      "[5]\ttrain-logloss:0.12663\ttest-logloss:0.17469\n",
      "[6]\ttrain-logloss:0.10353\ttest-logloss:0.15549\n",
      "[7]\ttrain-logloss:0.08545\ttest-logloss:0.13367\n",
      "[8]\ttrain-logloss:0.07277\ttest-logloss:0.12411\n",
      "[9]\ttrain-logloss:0.06333\ttest-logloss:0.11611\n",
      "[10]\ttrain-logloss:0.05484\ttest-logloss:0.10768\n",
      "[11]\ttrain-logloss:0.04787\ttest-logloss:0.10018\n",
      "[12]\ttrain-logloss:0.04334\ttest-logloss:0.09754\n",
      "[13]\ttrain-logloss:0.03794\ttest-logloss:0.08920\n",
      "[14]\ttrain-logloss:0.03308\ttest-logloss:0.09259\n",
      "[15]\ttrain-logloss:0.02942\ttest-logloss:0.09144\n",
      "[16]\ttrain-logloss:0.02689\ttest-logloss:0.09066\n",
      "[17]\ttrain-logloss:0.02439\ttest-logloss:0.09058\n",
      "[18]\ttrain-logloss:0.02226\ttest-logloss:0.08894\n",
      "[19]\ttrain-logloss:0.02053\ttest-logloss:0.08622\n",
      "[20]\ttrain-logloss:0.01891\ttest-logloss:0.08694\n",
      "[21]\ttrain-logloss:0.01766\ttest-logloss:0.08437\n",
      "[22]\ttrain-logloss:0.01649\ttest-logloss:0.08092\n",
      "[23]\ttrain-logloss:0.01547\ttest-logloss:0.08404\n",
      "[24]\ttrain-logloss:0.01457\ttest-logloss:0.08252\n",
      "[25]\ttrain-logloss:0.01381\ttest-logloss:0.08363\n",
      "[26]\ttrain-logloss:0.01322\ttest-logloss:0.08221\n",
      "[27]\ttrain-logloss:0.01285\ttest-logloss:0.08006\n",
      "[28]\ttrain-logloss:0.01222\ttest-logloss:0.08012\n",
      "[29]\ttrain-logloss:0.01170\ttest-logloss:0.08106\n",
      "[30]\ttrain-logloss:0.01127\ttest-logloss:0.07912\n",
      "[31]\ttrain-logloss:0.01086\ttest-logloss:0.07902\n",
      "[32]\ttrain-logloss:0.01044\ttest-logloss:0.07828\n",
      "[33]\ttrain-logloss:0.01009\ttest-logloss:0.07763\n",
      "[34]\ttrain-logloss:0.00977\ttest-logloss:0.07815\n",
      "[35]\ttrain-logloss:0.00948\ttest-logloss:0.07717\n",
      "[36]\ttrain-logloss:0.00916\ttest-logloss:0.08030\n",
      "[37]\ttrain-logloss:0.00899\ttest-logloss:0.07981\n",
      "[38]\ttrain-logloss:0.00875\ttest-logloss:0.07970\n",
      "[39]\ttrain-logloss:0.00862\ttest-logloss:0.07979\n",
      "[40]\ttrain-logloss:0.00842\ttest-logloss:0.08142\n",
      "[41]\ttrain-logloss:0.00826\ttest-logloss:0.08108\n",
      "[42]\ttrain-logloss:0.00817\ttest-logloss:0.08093\n",
      "[43]\ttrain-logloss:0.00791\ttest-logloss:0.08288\n",
      "[44]\ttrain-logloss:0.00783\ttest-logloss:0.08297\n",
      "[45]\ttrain-logloss:0.00775\ttest-logloss:0.08286\n",
      "[46]\ttrain-logloss:0.00757\ttest-logloss:0.08421\n",
      "[47]\ttrain-logloss:0.00749\ttest-logloss:0.08398\n",
      "[48]\ttrain-logloss:0.00741\ttest-logloss:0.08323\n",
      "[49]\ttrain-logloss:0.00734\ttest-logloss:0.08398\n",
      "[50]\ttrain-logloss:0.00727\ttest-logloss:0.08317\n",
      "[51]\ttrain-logloss:0.00721\ttest-logloss:0.08331\n",
      "[52]\ttrain-logloss:0.00714\ttest-logloss:0.08325\n",
      "[53]\ttrain-logloss:0.00708\ttest-logloss:0.08248\n",
      "[54]\ttrain-logloss:0.00702\ttest-logloss:0.08220\n",
      "[55]\ttrain-logloss:0.00696\ttest-logloss:0.08152\n",
      "[56]\ttrain-logloss:0.00690\ttest-logloss:0.08139\n",
      "[57]\ttrain-logloss:0.00683\ttest-logloss:0.08152\n",
      "[58]\ttrain-logloss:0.00678\ttest-logloss:0.08088\n",
      "[59]\ttrain-logloss:0.00672\ttest-logloss:0.08083\n",
      "[60]\ttrain-logloss:0.00667\ttest-logloss:0.08148\n",
      "[61]\ttrain-logloss:0.00662\ttest-logloss:0.08076\n",
      "[62]\ttrain-logloss:0.00656\ttest-logloss:0.08069\n",
      "[63]\ttrain-logloss:0.00652\ttest-logloss:0.08011\n",
      "[64]\ttrain-logloss:0.00647\ttest-logloss:0.07985\n",
      "[65]\ttrain-logloss:0.00642\ttest-logloss:0.08013\n",
      "[66]\ttrain-logloss:0.00637\ttest-logloss:0.08075\n",
      "[67]\ttrain-logloss:0.00633\ttest-logloss:0.08075\n",
      "[68]\ttrain-logloss:0.00628\ttest-logloss:0.08018\n",
      "[69]\ttrain-logloss:0.00624\ttest-logloss:0.08022\n",
      "[70]\ttrain-logloss:0.00620\ttest-logloss:0.08028\n",
      "[71]\ttrain-logloss:0.00615\ttest-logloss:0.08027\n",
      "[72]\ttrain-logloss:0.00612\ttest-logloss:0.08066\n",
      "[73]\ttrain-logloss:0.00607\ttest-logloss:0.08046\n",
      "[74]\ttrain-logloss:0.00604\ttest-logloss:0.08022\n",
      "[75]\ttrain-logloss:0.00600\ttest-logloss:0.08049\n",
      "[76]\ttrain-logloss:0.00596\ttest-logloss:0.08103\n",
      "[77]\ttrain-logloss:0.00592\ttest-logloss:0.08086\n",
      "[78]\ttrain-logloss:0.00589\ttest-logloss:0.08093\n",
      "[79]\ttrain-logloss:0.00585\ttest-logloss:0.08098\n",
      "[80]\ttrain-logloss:0.00582\ttest-logloss:0.08100\n",
      "[81]\ttrain-logloss:0.00579\ttest-logloss:0.08151\n",
      "[82]\ttrain-logloss:0.00576\ttest-logloss:0.08136\n",
      "[83]\ttrain-logloss:0.00573\ttest-logloss:0.08115\n",
      "[84]\ttrain-logloss:0.00570\ttest-logloss:0.08078\n",
      "[85]\ttrain-logloss:0.00567\ttest-logloss:0.08082\n",
      "[86]\ttrain-logloss:0.00564\ttest-logloss:0.08086\n",
      "[87]\ttrain-logloss:0.00562\ttest-logloss:0.08052\n",
      "[88]\ttrain-logloss:0.00559\ttest-logloss:0.08057\n",
      "[89]\ttrain-logloss:0.00557\ttest-logloss:0.08081\n",
      "[90]\ttrain-logloss:0.00554\ttest-logloss:0.08051\n",
      "[91]\ttrain-logloss:0.00552\ttest-logloss:0.08086\n",
      "[92]\ttrain-logloss:0.00549\ttest-logloss:0.08069\n",
      "[93]\ttrain-logloss:0.00547\ttest-logloss:0.08040\n",
      "[94]\ttrain-logloss:0.00545\ttest-logloss:0.08045\n",
      "[95]\ttrain-logloss:0.00543\ttest-logloss:0.08050\n",
      "[96]\ttrain-logloss:0.00541\ttest-logloss:0.08072\n",
      "[97]\ttrain-logloss:0.00539\ttest-logloss:0.08045\n",
      "[98]\ttrain-logloss:0.00537\ttest-logloss:0.08078\n",
      "[99]\ttrain-logloss:0.00535\ttest-logloss:0.08044\n",
      "[100]\ttrain-logloss:0.00533\ttest-logloss:0.08018\n",
      "[101]\ttrain-logloss:0.00531\ttest-logloss:0.08049\n",
      "[102]\ttrain-logloss:0.00529\ttest-logloss:0.08070\n",
      "[103]\ttrain-logloss:0.00527\ttest-logloss:0.08045\n",
      "[104]\ttrain-logloss:0.00526\ttest-logloss:0.08013\n",
      "[105]\ttrain-logloss:0.00524\ttest-logloss:0.08007\n",
      "[106]\ttrain-logloss:0.00522\ttest-logloss:0.08011\n",
      "[107]\ttrain-logloss:0.00520\ttest-logloss:0.07986\n",
      "[108]\ttrain-logloss:0.00519\ttest-logloss:0.08016\n",
      "[109]\ttrain-logloss:0.00517\ttest-logloss:0.08036\n",
      "[110]\ttrain-logloss:0.00515\ttest-logloss:0.08013\n",
      "[111]\ttrain-logloss:0.00514\ttest-logloss:0.08019\n",
      "[112]\ttrain-logloss:0.00512\ttest-logloss:0.08023\n",
      "[113]\ttrain-logloss:0.00511\ttest-logloss:0.07999\n",
      "[114]\ttrain-logloss:0.00509\ttest-logloss:0.08028\n",
      "[115]\ttrain-logloss:0.00508\ttest-logloss:0.08048\n",
      "[116]\ttrain-logloss:0.00506\ttest-logloss:0.08017\n",
      "[117]\ttrain-logloss:0.00505\ttest-logloss:0.07995\n",
      "[118]\ttrain-logloss:0.00503\ttest-logloss:0.07990\n",
      "[119]\ttrain-logloss:0.00502\ttest-logloss:0.07994\n",
      "[120]\ttrain-logloss:0.00501\ttest-logloss:0.07997\n",
      "[121]\ttrain-logloss:0.00500\ttest-logloss:0.08002\n",
      "[122]\ttrain-logloss:0.00498\ttest-logloss:0.08006\n",
      "[123]\ttrain-logloss:0.00497\ttest-logloss:0.07986\n",
      "[124]\ttrain-logloss:0.00496\ttest-logloss:0.08012\n",
      "[125]\ttrain-logloss:0.00494\ttest-logloss:0.08031\n",
      "[126]\ttrain-logloss:0.00493\ttest-logloss:0.08004\n",
      "[127]\ttrain-logloss:0.00492\ttest-logloss:0.07984\n",
      "[128]\ttrain-logloss:0.00491\ttest-logloss:0.08009\n",
      "[129]\ttrain-logloss:0.00490\ttest-logloss:0.07974\n",
      "[130]\ttrain-logloss:0.00489\ttest-logloss:0.07978\n",
      "[131]\ttrain-logloss:0.00488\ttest-logloss:0.07982\n",
      "[132]\ttrain-logloss:0.00487\ttest-logloss:0.07963\n",
      "[133]\ttrain-logloss:0.00486\ttest-logloss:0.07980\n",
      "[134]\ttrain-logloss:0.00485\ttest-logloss:0.07956\n"
     ]
    }
   ],
   "source": [
    "params = { \n",
    "        'max_depth' : 3,\n",
    "        'objective' : 'binary:logistic',\n",
    "        'eval_metric' : 'logloss',\n",
    "        'early_stoppings' : 100\n",
    "}\n",
    "num_rounds=400\n",
    "\n",
    "wlist = [(dtrain,'train'),(dtest,'test')]\n",
    "xgb_model = xgb.train(params = params,\n",
    "                     dtrain = dtrain,\n",
    "                     num_boost_round=num_rounds,\n",
    "                     early_stopping_rounds=100,\n",
    "                     evals=wlist)"
   ]
  },
  {
   "cell_type": "code",
   "execution_count": 41,
   "id": "a509fc4d-d9f6-4174-999e-91c6647c6cce",
   "metadata": {},
   "outputs": [
    {
     "name": "stdout",
     "output_type": "stream",
     "text": [
      "predict( ) 수행 결과값을 10개만 표시, 예측 확률 값으로 표시됨\n",
      "[0.978 0.004 0.945 0.054 0.994 1.    1.    1.    0.998 0.   ]\n",
      "예측값 10개만 표시: [1, 0, 1, 0, 1, 1, 1, 1, 1, 0]\n"
     ]
    }
   ],
   "source": [
    "import numpy as np\n",
    "\n",
    "pred_probs = xgb_model.predict(dtest)\n",
    "print('predict( ) 수행 결과값을 10개만 표시, 예측 확률 값으로 표시됨')\n",
    "print(np.round(pred_probs[:10],3))\n",
    "\n",
    "# 예측 확률이 0.5 보다 크면 1 , 그렇지 않으면 0 으로 예측값 결정하여 List 객체인 preds에 저장 \n",
    "preds = [ 1 if x > 0.5 else 0 for x in pred_probs ]\n",
    "print('예측값 10개만 표시:',preds[:10])"
   ]
  },
  {
   "cell_type": "code",
   "execution_count": 42,
   "id": "29b64b4b-5e9c-42eb-9469-db30a07f68f7",
   "metadata": {},
   "outputs": [],
   "source": [
    "from sklearn.metrics import confusion_matrix, accuracy_score\n",
    "from sklearn.metrics import precision_score, recall_score\n",
    "from sklearn.metrics import f1_score, roc_auc_score\n",
    "\n",
    "def get_clf_eval(y_test, pred=None, pred_proba=None):\n",
    "    confusion = confusion_matrix( y_test, pred)\n",
    "    accuracy = accuracy_score(y_test , pred)\n",
    "    precision = precision_score(y_test , pred)\n",
    "    recall = recall_score(y_test , pred)\n",
    "    f1 = f1_score(y_test,pred)\n",
    "    # ROC-AUC 추가 \n",
    "    roc_auc = roc_auc_score(y_test, pred_proba)\n",
    "    print('오차 행렬')\n",
    "    print(confusion)\n",
    "    # ROC-AUC print 추가\n",
    "    print('정확도: {0:.4f}, 정밀도: {1:.4f}, 재현율: {2:.4f},\\\n",
    "    F1: {3:.4f}, AUC:{4:.4f}'.format(accuracy, precision, recall, f1, roc_auc))"
   ]
  },
  {
   "cell_type": "code",
   "execution_count": 43,
   "id": "e070bbb3-d6f7-4dd9-8bf1-44476e5e775c",
   "metadata": {},
   "outputs": [
    {
     "name": "stdout",
     "output_type": "stream",
     "text": [
      "오차 행렬\n",
      "[[35  2]\n",
      " [ 2 75]]\n",
      "정확도: 0.9649, 정밀도: 0.9740, 재현율: 0.9740,    F1: 0.9740, AUC:0.9961\n"
     ]
    }
   ],
   "source": [
    "get_clf_eval(y_test,preds,pred_probs)"
   ]
  },
  {
   "cell_type": "code",
   "execution_count": 45,
   "id": "6999f611-41d6-428e-a998-45e9cbbbffba",
   "metadata": {
    "tags": []
   },
   "outputs": [
    {
     "data": {
      "text/plain": [
       "<AxesSubplot:title={'center':'Feature importance'}, xlabel='F score', ylabel='Features'>"
      ]
     },
     "execution_count": 45,
     "metadata": {},
     "output_type": "execute_result"
    },
    {
     "data": {
      "image/png": "[encoded data removed]",
      "text/plain": [
       "<Figure size 720x864 with 1 Axes>"
      ]
     },
     "metadata": {
      "needs_background": "light"
     },
     "output_type": "display_data"
    }
   ],
   "source": [
    "from xgboost import plot_importance\n",
    "import matplotlib.pyplot as plt\n",
    "\n",
    "fig, ax = plt.subplots(figsize=(10, 12))\n",
    "plot_importance(xgb_model, ax=ax)"
   ]
  },
  {
   "cell_type": "code",
   "execution_count": 48,
   "id": "00d8a053-8bbe-4cc8-bf1d-ca9c9294e8dc",
   "metadata": {},
   "outputs": [
    {
     "name": "stdout",
     "output_type": "stream",
     "text": [
      "[16:45:36] WARNING: ..\\src\\learner.cc:1115: Starting in XGBoost 1.3.0, the default evaluation metric used with the objective 'binary:logistic' was changed from 'error' to 'logloss'. Explicitly set eval_metric if you'd like to restore the old behavior.\n",
      "오차 행렬\n",
      "[[35  2]\n",
      " [ 1 76]]\n",
      "정확도: 0.9737, 정밀도: 0.9744, 재현율: 0.9870,    F1: 0.9806, AUC:0.9951\n"
     ]
    }
   ],
   "source": [
    "xgb_wrapper = XGBClassifier(n_estimators=400,learning_rate=0.1,max_depth=3)\n",
    "xgb_wrapper.fit(X_train,y_train)\n",
    "w_preds = xgb_wrapper.predict(X_test)\n",
    "w_pred_proba = xgb_wrapper.predict_proba(X_test)[:,1]\n",
    "get_clf_eval(y_test,w_preds,w_pred_proba)"
   ]
  },
  {
   "cell_type": "code",
   "execution_count": 50,
   "id": "91488b85-d4fc-48f5-9643-ba032cc7b0cc",
   "metadata": {
    "tags": []
   },
   "outputs": [
    {
     "name": "stdout",
     "output_type": "stream",
     "text": [
      "[0]\tvalidation_0-logloss:0.61352\n",
      "[1]\tvalidation_0-logloss:0.54784\n",
      "[2]\tvalidation_0-logloss:0.49425\n",
      "[3]\tvalidation_0-logloss:0.44799\n",
      "[4]\tvalidation_0-logloss:0.40911\n",
      "[5]\tvalidation_0-logloss:0.37498\n",
      "[6]\tvalidation_0-logloss:0.34571\n",
      "[7]\tvalidation_0-logloss:0.32053\n",
      "[8]\tvalidation_0-logloss:0.29721\n",
      "[9]\tvalidation_0-logloss:0.27799\n",
      "[10]\tvalidation_0-logloss:0.26030\n",
      "[11]\tvalidation_0-logloss:0.24604\n",
      "[12]\tvalidation_0-logloss:0.23156\n",
      "[13]\tvalidation_0-logloss:0.22005\n",
      "[14]\tvalidation_0-logloss:0.20857\n",
      "[15]\tvalidation_0-logloss:0.19999\n",
      "[16]\tvalidation_0-logloss:0.19012\n",
      "[17]\tvalidation_0-logloss:0.18182\n",
      "[18]\tvalidation_0-logloss:0.17473\n",
      "[19]\tvalidation_0-logloss:0.16766\n",
      "[20]\tvalidation_0-logloss:0.15820\n",
      "[21]\tvalidation_0-logloss:0.15473\n",
      "[22]\tvalidation_0-logloss:0.14895\n",
      "[23]\tvalidation_0-logloss:0.14331\n",
      "[24]\tvalidation_0-logloss:0.13634\n",
      "[25]\tvalidation_0-logloss:0.13278\n",
      "[26]\tvalidation_0-logloss:0.12791\n",
      "[27]\tvalidation_0-logloss:0.12526\n",
      "[28]\tvalidation_0-logloss:0.11998\n",
      "[29]\tvalidation_0-logloss:0.11641\n",
      "[30]\tvalidation_0-logloss:0.11450\n",
      "[31]\tvalidation_0-logloss:0.11257\n",
      "[32]\tvalidation_0-logloss:0.11154\n",
      "[33]\tvalidation_0-logloss:0.10868\n",
      "[34]\tvalidation_0-logloss:0.10668\n",
      "[35]\tvalidation_0-logloss:0.10421\n",
      "[36]\tvalidation_0-logloss:0.10296\n",
      "[37]\tvalidation_0-logloss:0.10058\n",
      "[38]\tvalidation_0-logloss:0.09868\n",
      "[39]\tvalidation_0-logloss:0.09644\n",
      "[40]\tvalidation_0-logloss:0.09587\n",
      "[41]\tvalidation_0-logloss:0.09424\n",
      "[42]\tvalidation_0-logloss:0.09471\n",
      "[43]\tvalidation_0-logloss:0.09427\n",
      "[44]\tvalidation_0-logloss:0.09389\n",
      "[45]\tvalidation_0-logloss:0.09418\n",
      "[46]\tvalidation_0-logloss:0.09402\n",
      "[47]\tvalidation_0-logloss:0.09236\n",
      "[48]\tvalidation_0-logloss:0.09301\n",
      "[49]\tvalidation_0-logloss:0.09127\n",
      "[50]\tvalidation_0-logloss:0.09005\n",
      "[51]\tvalidation_0-logloss:0.08961\n",
      "[52]\tvalidation_0-logloss:0.08958\n",
      "[53]\tvalidation_0-logloss:0.09070\n",
      "[54]\tvalidation_0-logloss:0.08958\n",
      "[55]\tvalidation_0-logloss:0.09036\n",
      "[56]\tvalidation_0-logloss:0.09159\n",
      "[57]\tvalidation_0-logloss:0.09153\n",
      "[58]\tvalidation_0-logloss:0.09199\n",
      "[59]\tvalidation_0-logloss:0.09195\n",
      "[60]\tvalidation_0-logloss:0.09194\n",
      "[61]\tvalidation_0-logloss:0.09146\n",
      "[62]\tvalidation_0-logloss:0.09031\n",
      "[63]\tvalidation_0-logloss:0.08941\n",
      "[64]\tvalidation_0-logloss:0.08972\n",
      "[65]\tvalidation_0-logloss:0.08974\n",
      "[66]\tvalidation_0-logloss:0.08962\n",
      "[67]\tvalidation_0-logloss:0.08873\n",
      "[68]\tvalidation_0-logloss:0.08862\n",
      "[69]\tvalidation_0-logloss:0.08974\n",
      "[70]\tvalidation_0-logloss:0.08998\n",
      "[71]\tvalidation_0-logloss:0.08978\n",
      "[72]\tvalidation_0-logloss:0.08958\n",
      "[73]\tvalidation_0-logloss:0.08953\n",
      "[74]\tvalidation_0-logloss:0.08875\n",
      "[75]\tvalidation_0-logloss:0.08860\n",
      "[76]\tvalidation_0-logloss:0.08812\n",
      "[77]\tvalidation_0-logloss:0.08840\n",
      "[78]\tvalidation_0-logloss:0.08874\n",
      "[79]\tvalidation_0-logloss:0.08815\n",
      "[80]\tvalidation_0-logloss:0.08758\n",
      "[81]\tvalidation_0-logloss:0.08741\n",
      "[82]\tvalidation_0-logloss:0.08849\n",
      "[83]\tvalidation_0-logloss:0.08858\n",
      "[84]\tvalidation_0-logloss:0.08807\n",
      "[85]\tvalidation_0-logloss:0.08764\n",
      "[86]\tvalidation_0-logloss:0.08742\n",
      "[87]\tvalidation_0-logloss:0.08761\n",
      "[88]\tvalidation_0-logloss:0.08707\n",
      "[89]\tvalidation_0-logloss:0.08727\n",
      "[90]\tvalidation_0-logloss:0.08716\n",
      "[91]\tvalidation_0-logloss:0.08696\n",
      "[92]\tvalidation_0-logloss:0.08717\n",
      "[93]\tvalidation_0-logloss:0.08707\n",
      "[94]\tvalidation_0-logloss:0.08659\n",
      "[95]\tvalidation_0-logloss:0.08612\n",
      "[96]\tvalidation_0-logloss:0.08714\n",
      "[97]\tvalidation_0-logloss:0.08677\n",
      "[98]\tvalidation_0-logloss:0.08669\n",
      "[99]\tvalidation_0-logloss:0.08655\n",
      "[100]\tvalidation_0-logloss:0.08650\n",
      "[101]\tvalidation_0-logloss:0.08641\n",
      "[102]\tvalidation_0-logloss:0.08629\n",
      "[103]\tvalidation_0-logloss:0.08626\n",
      "[104]\tvalidation_0-logloss:0.08683\n",
      "[105]\tvalidation_0-logloss:0.08677\n",
      "[106]\tvalidation_0-logloss:0.08732\n",
      "[107]\tvalidation_0-logloss:0.08730\n",
      "[108]\tvalidation_0-logloss:0.08728\n",
      "[109]\tvalidation_0-logloss:0.08730\n",
      "[110]\tvalidation_0-logloss:0.08729\n",
      "[111]\tvalidation_0-logloss:0.08800\n",
      "[112]\tvalidation_0-logloss:0.08794\n",
      "[113]\tvalidation_0-logloss:0.08784\n",
      "[114]\tvalidation_0-logloss:0.08807\n",
      "[115]\tvalidation_0-logloss:0.08765\n",
      "[116]\tvalidation_0-logloss:0.08730\n",
      "[117]\tvalidation_0-logloss:0.08780\n",
      "[118]\tvalidation_0-logloss:0.08775\n",
      "[119]\tvalidation_0-logloss:0.08768\n",
      "[120]\tvalidation_0-logloss:0.08763\n",
      "[121]\tvalidation_0-logloss:0.08757\n",
      "[122]\tvalidation_0-logloss:0.08755\n",
      "[123]\tvalidation_0-logloss:0.08716\n",
      "[124]\tvalidation_0-logloss:0.08767\n",
      "[125]\tvalidation_0-logloss:0.08774\n",
      "[126]\tvalidation_0-logloss:0.08828\n",
      "[127]\tvalidation_0-logloss:0.08831\n",
      "[128]\tvalidation_0-logloss:0.08827\n",
      "[129]\tvalidation_0-logloss:0.08789\n",
      "[130]\tvalidation_0-logloss:0.08886\n",
      "[131]\tvalidation_0-logloss:0.08868\n",
      "[132]\tvalidation_0-logloss:0.08874\n",
      "[133]\tvalidation_0-logloss:0.08922\n",
      "[134]\tvalidation_0-logloss:0.08918\n",
      "[135]\tvalidation_0-logloss:0.08882\n",
      "[136]\tvalidation_0-logloss:0.08851\n",
      "[137]\tvalidation_0-logloss:0.08848\n",
      "[138]\tvalidation_0-logloss:0.08839\n",
      "[139]\tvalidation_0-logloss:0.08915\n",
      "[140]\tvalidation_0-logloss:0.08911\n",
      "[141]\tvalidation_0-logloss:0.08876\n",
      "[142]\tvalidation_0-logloss:0.08868\n",
      "[143]\tvalidation_0-logloss:0.08839\n",
      "[144]\tvalidation_0-logloss:0.08927\n",
      "[145]\tvalidation_0-logloss:0.08924\n",
      "[146]\tvalidation_0-logloss:0.08914\n",
      "[147]\tvalidation_0-logloss:0.08891\n",
      "[148]\tvalidation_0-logloss:0.08942\n",
      "[149]\tvalidation_0-logloss:0.08939\n",
      "[150]\tvalidation_0-logloss:0.08911\n",
      "[151]\tvalidation_0-logloss:0.08873\n",
      "[152]\tvalidation_0-logloss:0.08872\n",
      "[153]\tvalidation_0-logloss:0.08848\n",
      "[154]\tvalidation_0-logloss:0.08847\n",
      "[155]\tvalidation_0-logloss:0.08854\n",
      "[156]\tvalidation_0-logloss:0.08852\n",
      "[157]\tvalidation_0-logloss:0.08855\n",
      "[158]\tvalidation_0-logloss:0.08828\n",
      "[159]\tvalidation_0-logloss:0.08830\n",
      "[160]\tvalidation_0-logloss:0.08828\n",
      "[161]\tvalidation_0-logloss:0.08801\n",
      "[162]\tvalidation_0-logloss:0.08776\n",
      "[163]\tvalidation_0-logloss:0.08778\n",
      "[164]\tvalidation_0-logloss:0.08778\n",
      "[165]\tvalidation_0-logloss:0.08752\n",
      "[166]\tvalidation_0-logloss:0.08754\n",
      "[167]\tvalidation_0-logloss:0.08764\n",
      "[168]\tvalidation_0-logloss:0.08739\n",
      "[169]\tvalidation_0-logloss:0.08738\n",
      "[170]\tvalidation_0-logloss:0.08730\n",
      "[171]\tvalidation_0-logloss:0.08737\n",
      "[172]\tvalidation_0-logloss:0.08740\n",
      "[173]\tvalidation_0-logloss:0.08739\n",
      "[174]\tvalidation_0-logloss:0.08713\n",
      "[175]\tvalidation_0-logloss:0.08716\n",
      "[176]\tvalidation_0-logloss:0.08696\n",
      "[177]\tvalidation_0-logloss:0.08705\n",
      "[178]\tvalidation_0-logloss:0.08697\n",
      "[179]\tvalidation_0-logloss:0.08697\n",
      "[180]\tvalidation_0-logloss:0.08704\n",
      "[181]\tvalidation_0-logloss:0.08680\n",
      "[182]\tvalidation_0-logloss:0.08683\n",
      "[183]\tvalidation_0-logloss:0.08658\n",
      "[184]\tvalidation_0-logloss:0.08659\n",
      "[185]\tvalidation_0-logloss:0.08661\n",
      "[186]\tvalidation_0-logloss:0.08637\n",
      "[187]\tvalidation_0-logloss:0.08637\n",
      "[188]\tvalidation_0-logloss:0.08630\n",
      "[189]\tvalidation_0-logloss:0.08610\n",
      "[190]\tvalidation_0-logloss:0.08602\n",
      "[191]\tvalidation_0-logloss:0.08605\n",
      "[192]\tvalidation_0-logloss:0.08615\n",
      "[193]\tvalidation_0-logloss:0.08592\n",
      "[194]\tvalidation_0-logloss:0.08592\n",
      "[195]\tvalidation_0-logloss:0.08598\n",
      "[196]\tvalidation_0-logloss:0.08601\n",
      "[197]\tvalidation_0-logloss:0.08592\n",
      "[198]\tvalidation_0-logloss:0.08585\n",
      "[199]\tvalidation_0-logloss:0.08587\n",
      "[200]\tvalidation_0-logloss:0.08589\n",
      "[201]\tvalidation_0-logloss:0.08595\n",
      "[202]\tvalidation_0-logloss:0.08573\n",
      "[203]\tvalidation_0-logloss:0.08573\n",
      "[204]\tvalidation_0-logloss:0.08575\n",
      "[205]\tvalidation_0-logloss:0.08582\n",
      "[206]\tvalidation_0-logloss:0.08584\n",
      "[207]\tvalidation_0-logloss:0.08578\n",
      "[208]\tvalidation_0-logloss:0.08569\n",
      "[209]\tvalidation_0-logloss:0.08571\n",
      "[210]\tvalidation_0-logloss:0.08581\n",
      "[211]\tvalidation_0-logloss:0.08559\n",
      "[212]\tvalidation_0-logloss:0.08580\n",
      "[213]\tvalidation_0-logloss:0.08581\n",
      "[214]\tvalidation_0-logloss:0.08574\n",
      "[215]\tvalidation_0-logloss:0.08566\n",
      "[216]\tvalidation_0-logloss:0.08584\n",
      "[217]\tvalidation_0-logloss:0.08563\n",
      "[218]\tvalidation_0-logloss:0.08573\n",
      "[219]\tvalidation_0-logloss:0.08578\n",
      "[220]\tvalidation_0-logloss:0.08579\n",
      "[221]\tvalidation_0-logloss:0.08582\n",
      "[222]\tvalidation_0-logloss:0.08576\n",
      "[223]\tvalidation_0-logloss:0.08567\n",
      "[224]\tvalidation_0-logloss:0.08586\n",
      "[225]\tvalidation_0-logloss:0.08587\n",
      "[226]\tvalidation_0-logloss:0.08593\n",
      "[227]\tvalidation_0-logloss:0.08595\n",
      "[228]\tvalidation_0-logloss:0.08587\n",
      "[229]\tvalidation_0-logloss:0.08606\n",
      "[230]\tvalidation_0-logloss:0.08600\n",
      "[231]\tvalidation_0-logloss:0.08592\n",
      "[232]\tvalidation_0-logloss:0.08610\n",
      "[233]\tvalidation_0-logloss:0.08611\n",
      "[234]\tvalidation_0-logloss:0.08617\n",
      "[235]\tvalidation_0-logloss:0.08626\n",
      "[236]\tvalidation_0-logloss:0.08629\n",
      "[237]\tvalidation_0-logloss:0.08622\n",
      "[238]\tvalidation_0-logloss:0.08639\n",
      "[239]\tvalidation_0-logloss:0.08634\n",
      "[240]\tvalidation_0-logloss:0.08618\n",
      "[241]\tvalidation_0-logloss:0.08619\n",
      "[242]\tvalidation_0-logloss:0.08625\n",
      "[243]\tvalidation_0-logloss:0.08626\n",
      "[244]\tvalidation_0-logloss:0.08629\n",
      "[245]\tvalidation_0-logloss:0.08622\n",
      "[246]\tvalidation_0-logloss:0.08640\n",
      "[247]\tvalidation_0-logloss:0.08635\n",
      "[248]\tvalidation_0-logloss:0.08628\n",
      "[249]\tvalidation_0-logloss:0.08645\n",
      "[250]\tvalidation_0-logloss:0.08629\n",
      "[251]\tvalidation_0-logloss:0.08631\n",
      "[252]\tvalidation_0-logloss:0.08636\n",
      "[253]\tvalidation_0-logloss:0.08639\n",
      "[254]\tvalidation_0-logloss:0.08649\n",
      "[255]\tvalidation_0-logloss:0.08644\n",
      "[256]\tvalidation_0-logloss:0.08629\n",
      "[257]\tvalidation_0-logloss:0.08646\n",
      "[258]\tvalidation_0-logloss:0.08639\n",
      "[259]\tvalidation_0-logloss:0.08644\n",
      "[260]\tvalidation_0-logloss:0.08646\n",
      "[261]\tvalidation_0-logloss:0.08649\n",
      "[262]\tvalidation_0-logloss:0.08644\n",
      "[263]\tvalidation_0-logloss:0.08647\n",
      "[264]\tvalidation_0-logloss:0.08632\n",
      "[265]\tvalidation_0-logloss:0.08649\n",
      "[266]\tvalidation_0-logloss:0.08654\n",
      "[267]\tvalidation_0-logloss:0.08647\n",
      "[268]\tvalidation_0-logloss:0.08650\n",
      "[269]\tvalidation_0-logloss:0.08652\n",
      "[270]\tvalidation_0-logloss:0.08669\n",
      "[271]\tvalidation_0-logloss:0.08674\n",
      "[272]\tvalidation_0-logloss:0.08683\n",
      "[273]\tvalidation_0-logloss:0.08668\n",
      "[274]\tvalidation_0-logloss:0.08664\n",
      "[275]\tvalidation_0-logloss:0.08650\n",
      "[276]\tvalidation_0-logloss:0.08636\n",
      "[277]\tvalidation_0-logloss:0.08652\n",
      "[278]\tvalidation_0-logloss:0.08657\n",
      "[279]\tvalidation_0-logloss:0.08659\n",
      "[280]\tvalidation_0-logloss:0.08668\n",
      "[281]\tvalidation_0-logloss:0.08664\n",
      "[282]\tvalidation_0-logloss:0.08650\n",
      "[283]\tvalidation_0-logloss:0.08636\n",
      "[284]\tvalidation_0-logloss:0.08640\n",
      "[285]\tvalidation_0-logloss:0.08643\n",
      "[286]\tvalidation_0-logloss:0.08646\n",
      "[287]\tvalidation_0-logloss:0.08650\n",
      "[288]\tvalidation_0-logloss:0.08637\n",
      "[289]\tvalidation_0-logloss:0.08646\n",
      "[290]\tvalidation_0-logloss:0.08645\n",
      "[291]\tvalidation_0-logloss:0.08632\n",
      "[292]\tvalidation_0-logloss:0.08628\n",
      "[293]\tvalidation_0-logloss:0.08615\n",
      "[294]\tvalidation_0-logloss:0.08620\n",
      "[295]\tvalidation_0-logloss:0.08622\n",
      "[296]\tvalidation_0-logloss:0.08631\n",
      "[297]\tvalidation_0-logloss:0.08618\n",
      "[298]\tvalidation_0-logloss:0.08626\n",
      "[299]\tvalidation_0-logloss:0.08613\n",
      "[300]\tvalidation_0-logloss:0.08618\n",
      "[301]\tvalidation_0-logloss:0.08605\n",
      "[302]\tvalidation_0-logloss:0.08602\n",
      "[303]\tvalidation_0-logloss:0.08610\n",
      "[304]\tvalidation_0-logloss:0.08598\n",
      "[305]\tvalidation_0-logloss:0.08606\n",
      "[306]\tvalidation_0-logloss:0.08597\n",
      "[307]\tvalidation_0-logloss:0.08600\n",
      "[308]\tvalidation_0-logloss:0.08600\n",
      "[309]\tvalidation_0-logloss:0.08588\n",
      "[310]\tvalidation_0-logloss:0.08592\n",
      "[311]\tvalidation_0-logloss:0.08595\n",
      "오차 행렬\n",
      "[[34  3]\n",
      " [ 1 76]]\n",
      "정확도: 0.9649, 정밀도: 0.9620, 재현율: 0.9870,    F1: 0.9744, AUC:0.9954\n"
     ]
    }
   ],
   "source": [
    "xgb_wrapper = XGBClassifier(n_estimators=400,learning_rate=0.1,max_depth=3)\n",
    "evals = [(X_test,y_test)]\n",
    "xgb_wrapper.fit(X_train,y_train,early_stopping_rounds=100, eval_metric=\"logloss\",eval_set=evals, verbose=True)\n",
    "ws100_preds = xgb_wrapper.predict(X_test)\n",
    "ws100_pred_proba = xgb_wrapper.predict_proba(X_test)[:,1]\n",
    "get_clf_eval(y_test,ws100_preds,ws100_pred_proba)"
   ]
  },
  {
   "cell_type": "code",
   "execution_count": null,
   "id": "202b8c0c-7852-4383-9f1b-06707b8ebd2e",
   "metadata": {},
   "outputs": [],
   "source": []
  }
 ],
 "metadata": {
  "kernelspec": {
   "display_name": "Python 3 (ipykernel)",
   "language": "python",
   "name": "python3"
  },
  "language_info": {
   "codemirror_mode": {
    "name": "ipython",
    "version": 3
   },
   "file_extension": ".py",
   "mimetype": "text/x-python",
   "name": "python",
   "nbconvert_exporter": "python",
   "pygments_lexer": "ipython3",
   "version": "3.9.7"
  }
 },
 "nbformat": 4,
 "nbformat_minor": 5
}
